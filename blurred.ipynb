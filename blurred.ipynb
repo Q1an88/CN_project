{
  "nbformat": 4,
  "nbformat_minor": 0,
  "metadata": {
    "colab": {
      "provenance": []
    },
    "kernelspec": {
      "name": "python3",
      "display_name": "Python 3"
    },
    "language_info": {
      "name": "python"
    }
  },
  "cells": [
    {
      "cell_type": "code",
      "execution_count": 1,
      "metadata": {
        "id": "2BOEGqBPV5FJ"
      },
      "outputs": [],
      "source": [
        "import cv2\n",
        "import os\n",
        "import shutil\n",
        "import numpy as np\n",
        "import zipfile\n",
        "import pandas as pd\n",
        "from sklearn.model_selection import train_test_split\n",
        "from keras.preprocessing.image import ImageDataGenerator, img_to_array, load_img\n",
        "from keras.applications.vgg16 import VGG16, preprocess_input\n",
        "from keras.layers import Dense, Flatten, Dropout\n",
        "from keras.models import Model\n",
        "from keras.optimizers import Adam\n",
        "from keras.callbacks import EarlyStopping\n",
        "from tqdm import tqdm\n",
        "from PIL import Image, ImageFilter, ImageEnhance\n",
        "from keras.optimizers import Adam\n",
        "from keras.regularizers import l2"
      ]
    },
    {
      "cell_type": "code",
      "source": [
        "# Unzipping the image dataset\n",
        "zip_ref = zipfile.ZipFile('original.zip', 'r')\n",
        "zip_ref.extractall('dataset')  # Extracting to the 'dataset' folder\n",
        "zip_ref.close()"
      ],
      "metadata": {
        "id": "fuDeNGMDWTx1"
      },
      "execution_count": 3,
      "outputs": []
    },
    {
      "cell_type": "code",
      "source": [
        "# blurred\n",
        "datagen = ImageDataGenerator()\n",
        "\n",
        "\n",
        "blurred_dir = 'dataset/blurred'\n",
        "if not os.path.exists(blurred_dir):\n",
        "    os.makedirs(blurred_dir)\n",
        "\n",
        "\n",
        "original_dir = 'dataset/original'\n",
        "total_images = 20\n",
        "\n",
        "\n",
        "for i in range(1, total_images + 1):\n",
        "    img_path = f'{original_dir}/{i:02d}.jpg'\n",
        "    img = Image.open(img_path)\n",
        "\n",
        "    if img.mode != 'RGB':\n",
        "        img = img.convert('RGB')\n",
        "\n",
        "    for j in range(10):\n",
        "        blurred_img = img.filter(ImageFilter.GaussianBlur(radius=5))\n",
        "        blurred_img.save(f'{blurred_dir}/blurred_{i:02d}_{j}.jpg')"
      ],
      "metadata": {
        "id": "P0PpY7bSXqzo"
      },
      "execution_count": 4,
      "outputs": []
    },
    {
      "cell_type": "code",
      "source": [
        "# Define data paths\n",
        "original_dir = 'dataset/original'\n",
        "blurred_dir = 'dataset/blurred'\n",
        "train_dir = 'dataset/train'\n",
        "validation_dir = 'dataset/validation'\n",
        "\n",
        "# Create directories for training and validation\n",
        "for category in ['original', 'blurred']:\n",
        "    os.makedirs(os.path.join(train_dir, category), exist_ok=True)\n",
        "    os.makedirs(os.path.join(validation_dir, category), exist_ok=True)\n",
        "\n",
        "# Function to split data and move files\n",
        "def split_data(source_folder, train_folder, validation_folder, validation_split=0.2):\n",
        "    files = os.listdir(source_folder)\n",
        "    train_files, validation_files = train_test_split(files, test_size=validation_split)\n",
        "\n",
        "    # Copy files to training directory\n",
        "    for file in train_files:\n",
        "        shutil.copy(os.path.join(source_folder, file), os.path.join(train_folder, file))\n",
        "\n",
        "    # Copy files to validation directory\n",
        "    for file in validation_files:\n",
        "        shutil.copy(os.path.join(source_folder, file), os.path.join(validation_folder, file))\n",
        "\n",
        "# Apply function to original and distorted datasets\n",
        "split_data(original_dir, os.path.join(train_dir, 'original'), os.path.join(validation_dir, 'original'))\n",
        "split_data(blurred_dir, os.path.join(train_dir, 'blurred'), os.path.join(validation_dir, 'blurred'))"
      ],
      "metadata": {
        "id": "pRb2HVstZzj2"
      },
      "execution_count": 5,
      "outputs": []
    },
    {
      "cell_type": "code",
      "source": [
        "train_datagen = ImageDataGenerator(preprocessing_function=preprocess_input)\n",
        "train_generator = train_datagen.flow_from_directory(\n",
        "    'dataset/train',\n",
        "    target_size=(224, 224),\n",
        "    batch_size=5,\n",
        "    class_mode='categorical'\n",
        ")\n",
        "\n",
        "validation_datagen = ImageDataGenerator(preprocessing_function=preprocess_input)\n",
        "validation_generator = validation_datagen.flow_from_directory(\n",
        "    'dataset/validation',\n",
        "    target_size=(224, 224),\n",
        "    batch_size=5,\n",
        "    class_mode='categorical'\n",
        ")"
      ],
      "metadata": {
        "colab": {
          "base_uri": "https://localhost:8080/"
        },
        "id": "bC2HqrYWZ0NX",
        "outputId": "489b3fde-2b78-4a03-a500-92b2121eefbc"
      },
      "execution_count": 6,
      "outputs": [
        {
          "output_type": "stream",
          "name": "stdout",
          "text": [
            "Found 176 images belonging to 2 classes.\n",
            "Found 44 images belonging to 2 classes.\n"
          ]
        }
      ]
    },
    {
      "cell_type": "code",
      "source": [
        "import shutil\n",
        "\n",
        "def remove_unwanted_dirs(directory):\n",
        "    checkpoint_dir = os.path.join(directory, '.ipynb_checkpoints')\n",
        "    if os.path.exists(checkpoint_dir):\n",
        "        shutil.rmtree(checkpoint_dir)\n",
        "        print(f\"Removed {checkpoint_dir}\")\n",
        "\n",
        "remove_unwanted_dirs(train_dir)\n",
        "remove_unwanted_dirs(validation_dir)\n",
        "\n",
        "print(\"Updated training directories:\", os.listdir(train_dir))\n",
        "print(\"Updated validation directories:\", os.listdir(validation_dir))"
      ],
      "metadata": {
        "colab": {
          "base_uri": "https://localhost:8080/"
        },
        "id": "T0-QZSgiZ7ZF",
        "outputId": "4b9e0239-2639-46de-86ac-b46b05be7119"
      },
      "execution_count": 12,
      "outputs": [
        {
          "output_type": "stream",
          "name": "stdout",
          "text": [
            "Updated training directories: ['original', 'blurred']\n",
            "Updated validation directories: ['original', 'blurred']\n"
          ]
        }
      ]
    },
    {
      "cell_type": "code",
      "source": [
        "dataset_dir = 'dataset'\n",
        "print(\"Directories in dataset:\", os.listdir(dataset_dir))\n",
        "\n",
        "for category in os.listdir(dataset_dir):\n",
        "    category_path = os.path.join(dataset_dir, category)\n",
        "    if os.path.isdir(category_path):\n",
        "        print(f\"Contents of {category}:\", os.listdir(category_path))"
      ],
      "metadata": {
        "id": "HZJyUivf0Am6",
        "colab": {
          "base_uri": "https://localhost:8080/"
        },
        "outputId": "fac2a163-cb96-48e8-bec8-114c583ab9dc"
      },
      "execution_count": 13,
      "outputs": [
        {
          "output_type": "stream",
          "name": "stdout",
          "text": [
            "Directories in dataset: ['validation', 'train', 'blurred']\n",
            "Contents of validation: ['original', 'blurred']\n",
            "Contents of train: ['original', 'blurred']\n",
            "Contents of blurred: ['blurred_04_8.jpg', 'blurred_11_4.jpg', 'blurred_09_5.jpg', 'blurred_15_0.jpg', 'blurred_01_0.jpg', 'blurred_18_5.jpg', 'blurred_02_6.jpg', 'blurred_09_8.jpg', 'blurred_19_1.jpg', 'blurred_11_9.jpg', 'blurred_04_4.jpg', 'blurred_20_0.jpg', 'blurred_14_8.jpg', 'blurred_01_2.jpg', 'blurred_18_9.jpg', 'blurred_06_0.jpg', 'blurred_13_5.jpg', 'blurred_09_1.jpg', 'blurred_06_8.jpg', 'blurred_06_1.jpg', 'blurred_05_0.jpg', 'blurred_17_4.jpg', 'blurred_19_2.jpg', 'blurred_14_6.jpg', 'blurred_15_6.jpg', 'blurred_02_3.jpg', 'blurred_10_4.jpg', 'blurred_18_8.jpg', 'blurred_20_2.jpg', 'blurred_16_6.jpg', 'blurred_12_7.jpg', 'blurred_19_7.jpg', 'blurred_20_1.jpg', 'blurred_13_7.jpg', 'blurred_01_1.jpg', 'blurred_04_0.jpg', 'blurred_17_0.jpg', 'blurred_08_7.jpg', 'blurred_11_7.jpg', 'blurred_12_3.jpg', 'blurred_09_7.jpg', 'blurred_08_1.jpg', 'blurred_13_4.jpg', 'blurred_14_3.jpg', 'blurred_08_0.jpg', 'blurred_08_3.jpg', 'blurred_11_3.jpg', 'blurred_11_0.jpg', 'blurred_15_2.jpg', 'blurred_16_8.jpg', 'blurred_19_5.jpg', 'blurred_06_7.jpg', 'blurred_10_8.jpg', 'blurred_08_6.jpg', 'blurred_05_1.jpg', 'blurred_03_4.jpg', 'blurred_01_4.jpg', 'blurred_13_1.jpg', 'blurred_06_6.jpg', 'blurred_07_1.jpg', 'blurred_16_4.jpg', 'blurred_03_6.jpg', 'blurred_09_0.jpg', 'blurred_20_5.jpg', 'blurred_03_7.jpg', 'blurred_02_2.jpg', 'blurred_04_7.jpg', 'blurred_19_8.jpg', 'blurred_13_3.jpg', 'blurred_05_3.jpg', 'blurred_08_9.jpg', 'blurred_16_7.jpg', 'blurred_17_9.jpg', 'blurred_05_5.jpg', 'blurred_03_8.jpg', 'blurred_17_3.jpg', 'blurred_10_5.jpg', 'blurred_11_6.jpg', 'blurred_12_0.jpg', 'blurred_15_8.jpg', 'blurred_06_2.jpg', 'blurred_14_2.jpg', 'blurred_06_3.jpg', 'blurred_05_2.jpg', 'blurred_08_5.jpg', 'blurred_16_0.jpg', 'blurred_16_2.jpg', 'blurred_07_4.jpg', 'blurred_05_6.jpg', 'blurred_07_5.jpg', 'blurred_09_3.jpg', 'blurred_07_3.jpg', 'blurred_03_9.jpg', 'blurred_03_5.jpg', 'blurred_17_6.jpg', 'blurred_08_2.jpg', 'blurred_05_7.jpg', 'blurred_18_0.jpg', 'blurred_04_9.jpg', 'blurred_10_1.jpg', 'blurred_01_9.jpg', 'blurred_04_6.jpg', 'blurred_17_5.jpg', 'blurred_20_4.jpg', 'blurred_14_7.jpg', 'blurred_20_7.jpg', 'blurred_05_8.jpg', 'blurred_13_8.jpg', 'blurred_01_8.jpg', 'blurred_06_5.jpg', 'blurred_18_3.jpg', 'blurred_02_8.jpg', 'blurred_13_0.jpg', 'blurred_09_6.jpg', 'blurred_01_6.jpg', 'blurred_19_9.jpg', 'blurred_18_7.jpg', 'blurred_12_6.jpg', 'blurred_05_4.jpg', 'blurred_13_9.jpg', 'blurred_11_5.jpg', 'blurred_08_4.jpg', 'blurred_10_0.jpg', 'blurred_02_0.jpg', 'blurred_18_2.jpg', 'blurred_14_0.jpg', 'blurred_06_9.jpg', 'blurred_16_1.jpg', 'blurred_13_2.jpg', 'blurred_11_1.jpg', 'blurred_09_9.jpg', 'blurred_02_9.jpg', 'blurred_07_6.jpg', 'blurred_20_9.jpg', 'blurred_12_8.jpg', 'blurred_13_6.jpg', 'blurred_20_8.jpg', 'blurred_05_9.jpg', 'blurred_20_3.jpg', 'blurred_07_7.jpg', 'blurred_04_2.jpg', 'blurred_04_5.jpg', 'blurred_08_8.jpg', 'blurred_17_1.jpg', 'blurred_10_3.jpg', 'blurred_02_5.jpg', 'blurred_10_6.jpg', 'blurred_04_1.jpg', 'blurred_19_3.jpg', 'blurred_12_1.jpg', 'blurred_18_1.jpg', 'blurred_02_4.jpg', 'blurred_19_6.jpg', 'blurred_15_4.jpg', 'blurred_09_4.jpg', 'blurred_16_5.jpg', 'blurred_11_2.jpg', 'blurred_10_9.jpg', 'blurred_15_5.jpg', 'blurred_14_1.jpg', 'blurred_12_9.jpg', 'blurred_03_2.jpg', 'blurred_12_4.jpg', 'blurred_06_4.jpg', 'blurred_17_8.jpg', 'blurred_15_7.jpg', 'blurred_07_0.jpg', 'blurred_12_5.jpg', 'blurred_16_9.jpg', 'blurred_17_7.jpg', 'blurred_19_4.jpg', 'blurred_18_4.jpg', 'blurred_15_3.jpg', 'blurred_16_3.jpg', 'blurred_20_6.jpg', 'blurred_02_7.jpg', 'blurred_02_1.jpg', 'blurred_14_4.jpg', 'blurred_01_7.jpg', 'blurred_03_3.jpg', 'blurred_14_5.jpg', 'blurred_15_1.jpg', 'blurred_11_8.jpg', 'blurred_07_9.jpg', 'blurred_10_2.jpg', 'blurred_17_2.jpg', 'blurred_04_3.jpg', 'blurred_03_1.jpg', 'blurred_14_9.jpg', 'blurred_12_2.jpg', 'blurred_18_6.jpg', 'blurred_01_3.jpg', 'blurred_19_0.jpg', 'blurred_07_8.jpg', 'blurred_01_5.jpg', 'blurred_07_2.jpg', 'blurred_03_0.jpg', 'blurred_10_7.jpg', 'blurred_09_2.jpg', 'blurred_15_9.jpg']\n"
          ]
        }
      ]
    },
    {
      "cell_type": "code",
      "source": [
        "import shutil\n",
        "import os\n",
        "\n",
        "directories_to_remove = ['original', 'blurred']\n",
        "base_dir = 'dataset'\n",
        "\n",
        "for dir_name in directories_to_remove:\n",
        "    dir_path = os.path.join(base_dir, dir_name)\n",
        "    if os.path.exists(dir_path):\n",
        "        shutil.rmtree(dir_path)\n",
        "        print(f\"Removed directory: {dir_path}\")\n",
        "    else:\n",
        "        print(f\"Directory does not exist, no need to remove: {dir_path}\")\n",
        "\n",
        "print(\"Updated contents of the dataset directory:\", os.listdir(base_dir))"
      ],
      "metadata": {
        "id": "D_5ZkI8n0EFP",
        "colab": {
          "base_uri": "https://localhost:8080/"
        },
        "outputId": "d3f7bd57-85bd-47a8-f60f-bbf3a70b3b6f"
      },
      "execution_count": 14,
      "outputs": [
        {
          "output_type": "stream",
          "name": "stdout",
          "text": [
            "Directory does not exist, no need to remove: dataset/original\n",
            "Removed directory: dataset/blurred\n",
            "Updated contents of the dataset directory: ['validation', 'train']\n"
          ]
        }
      ]
    },
    {
      "cell_type": "code",
      "source": [
        "!pip install tensorflow_addons\n",
        "import tensorflow_addons as tfa\n",
        "\n",
        "# Load the pre-trained VGG16 model\n",
        "base_model = VGG16(weights='imagenet', include_top=False, input_shape=(224, 224, 3))\n",
        "for layer in base_model.layers:\n",
        "    layer.trainable = False\n",
        "\n",
        "# Add custom layers\n",
        "x = Flatten()(base_model.output)\n",
        "x = Dense(256, activation='relu', kernel_regularizer=l2(0.001))(x)  # L2\n",
        "x = Dropout(0.5)(x)  # Dropout\n",
        "predictions = Dense(1, activation='sigmoid')(x)\n",
        "\n",
        "optimizer = tfa.optimizers.AdamW(learning_rate=0.0001, weight_decay=0.001)\n",
        "\n",
        "# Compile the model\n",
        "model = Model(inputs=base_model.input, outputs=predictions)\n",
        "model.compile(optimizer=optimizer, loss='binary_crossentropy', metrics=['accuracy'])\n",
        "\n",
        "# Prepare training data\n",
        "train_datagen = ImageDataGenerator(\n",
        "    preprocessing_function=preprocess_input,\n",
        "    validation_split=0.2  # Use 20% of the data as validation set\n",
        ")\n",
        "\n",
        "train_generator = train_datagen.flow_from_directory(\n",
        "    'dataset',\n",
        "    target_size=(224, 224),\n",
        "    batch_size=5,\n",
        "    class_mode='binary',\n",
        "    subset='training'\n",
        ")\n",
        "\n",
        "validation_generator = train_datagen.flow_from_directory(\n",
        "    'dataset',\n",
        "    target_size=(224, 224),\n",
        "    batch_size=5,\n",
        "    class_mode='binary',\n",
        "    subset='validation'\n",
        ")\n",
        "\n",
        "# Use early stopping to avoid overfitting\n",
        "early_stopping = EarlyStopping(monitor='val_loss', patience=10, verbose=1, mode='min', restore_best_weights=True)"
      ],
      "metadata": {
        "id": "WbOujg9O0G3t",
        "colab": {
          "base_uri": "https://localhost:8080/"
        },
        "outputId": "4434ceb6-a511-4c0c-c0c9-dcb36b3ddd50"
      },
      "execution_count": 15,
      "outputs": [
        {
          "output_type": "stream",
          "name": "stdout",
          "text": [
            "Requirement already satisfied: tensorflow_addons in /usr/local/lib/python3.10/dist-packages (0.23.0)\n",
            "Requirement already satisfied: packaging in /usr/local/lib/python3.10/dist-packages (from tensorflow_addons) (24.0)\n",
            "Requirement already satisfied: typeguard<3.0.0,>=2.7 in /usr/local/lib/python3.10/dist-packages (from tensorflow_addons) (2.13.3)\n",
            "Found 177 images belonging to 2 classes.\n",
            "Found 43 images belonging to 2 classes.\n"
          ]
        }
      ]
    },
    {
      "cell_type": "code",
      "source": [
        "# Train the model\n",
        "history = model.fit(\n",
        "    train_generator,\n",
        "    steps_per_epoch=15,\n",
        "    epochs=10,\n",
        "    callbacks=[early_stopping],\n",
        "    validation_data=validation_generator,\n",
        "    validation_steps=5\n",
        ")\n",
        "\n",
        "# Evaluate the model\n",
        "results = model.evaluate(validation_generator)\n",
        "print(\"Test loss, Test accuracy:\", results)"
      ],
      "metadata": {
        "id": "IzRtsBNL0J_8",
        "colab": {
          "base_uri": "https://localhost:8080/"
        },
        "outputId": "6fb101a8-6bac-4ff4-910f-fe163849278a"
      },
      "execution_count": 16,
      "outputs": [
        {
          "output_type": "stream",
          "name": "stdout",
          "text": [
            "Epoch 1/10\n",
            "15/15 [==============================] - 67s 4s/step - loss: 5.9644 - accuracy: 0.7639 - val_loss: 5.8242 - val_accuracy: 0.8800\n",
            "Epoch 2/10\n",
            "15/15 [==============================] - 65s 4s/step - loss: 9.9256 - accuracy: 0.7200 - val_loss: 4.9605 - val_accuracy: 0.7600\n",
            "Epoch 3/10\n",
            "15/15 [==============================] - 65s 4s/step - loss: 6.0917 - accuracy: 0.7200 - val_loss: 6.1995 - val_accuracy: 0.6800\n",
            "Epoch 4/10\n",
            "15/15 [==============================] - 64s 4s/step - loss: 8.1063 - accuracy: 0.6400 - val_loss: 12.0477 - val_accuracy: 0.6400\n",
            "Epoch 5/10\n",
            "15/15 [==============================] - 66s 5s/step - loss: 8.9064 - accuracy: 0.6267 - val_loss: 11.6108 - val_accuracy: 0.6800\n",
            "Epoch 6/10\n",
            "15/15 [==============================] - 64s 4s/step - loss: 6.8776 - accuracy: 0.7500 - val_loss: 4.6000 - val_accuracy: 0.8000\n",
            "Epoch 7/10\n",
            "15/15 [==============================] - 64s 4s/step - loss: 5.5423 - accuracy: 0.7500 - val_loss: 8.0585 - val_accuracy: 0.7200\n",
            "Epoch 8/10\n",
            "15/15 [==============================] - 67s 5s/step - loss: 5.8954 - accuracy: 0.6267 - val_loss: 9.2202 - val_accuracy: 0.6000\n",
            "Epoch 9/10\n",
            "15/15 [==============================] - 67s 5s/step - loss: 3.7754 - accuracy: 0.7867 - val_loss: 11.1987 - val_accuracy: 0.6000\n",
            "Epoch 10/10\n",
            "15/15 [==============================] - 64s 4s/step - loss: 4.7710 - accuracy: 0.7500 - val_loss: 10.2928 - val_accuracy: 0.6000\n",
            "9/9 [==============================] - 23s 3s/step - loss: 7.5561 - accuracy: 0.6744\n",
            "Test loss, Test accuracy: [7.556130409240723, 0.6744186282157898]\n"
          ]
        }
      ]
    }
  ]
}