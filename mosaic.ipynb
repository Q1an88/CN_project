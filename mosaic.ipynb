{
  "nbformat": 4,
  "nbformat_minor": 0,
  "metadata": {
    "colab": {
      "provenance": []
    },
    "kernelspec": {
      "name": "python3",
      "display_name": "Python 3"
    },
    "language_info": {
      "name": "python"
    }
  },
  "cells": [
    {
      "cell_type": "code",
      "execution_count": null,
      "metadata": {
        "id": "zLYG6Jatd_-Q"
      },
      "outputs": [],
      "source": [
        "import cv2\n",
        "import os\n",
        "import shutil\n",
        "import numpy as np\n",
        "import zipfile\n",
        "import pandas as pd\n",
        "from sklearn.model_selection import train_test_split\n",
        "from keras.preprocessing.image import ImageDataGenerator, img_to_array, load_img\n",
        "from keras.applications.vgg16 import VGG16, preprocess_input\n",
        "from keras.layers import Dense, Flatten, Dropout\n",
        "from keras.models import Model\n",
        "from keras.optimizers import Adam\n",
        "from keras.callbacks import EarlyStopping\n",
        "from tqdm import tqdm\n",
        "from PIL import Image, ImageFilter, ImageEnhance\n",
        "from keras.optimizers import Adam\n",
        "from keras.regularizers import l2"
      ]
    },
    {
      "cell_type": "code",
      "source": [
        "# Unzipping the image dataset\n",
        "zip_ref = zipfile.ZipFile('original.zip', 'r')\n",
        "zip_ref.extractall('dataset')  # Extracting to the 'dataset' folder\n",
        "zip_ref.close()"
      ],
      "metadata": {
        "id": "mfsJChFHeGU-"
      },
      "execution_count": null,
      "outputs": []
    },
    {
      "cell_type": "code",
      "source": [
        "def apply_mosaic(image, block_size=10):\n",
        "    width, height = image.size\n",
        "    mosaic_image = image.copy()\n",
        "\n",
        "    for i in range(0, width, block_size):\n",
        "        for j in range(0, height, block_size):\n",
        "            for k in range(block_size):\n",
        "                for l in range(block_size):\n",
        "                    if i + k < width and j + l < height:\n",
        "                        mosaic_image.putpixel((i + k, j + l), image.getpixel((i, j)))\n",
        "\n",
        "    return mosaic_image\n",
        "\n",
        "mosaic_dir = 'dataset/mosaic'\n",
        "if not os.path.exists(mosaic_dir):\n",
        "    os.makedirs(mosaic_dir)\n",
        "\n",
        "# Specify the path to the original images\n",
        "original_dir = 'dataset/original'\n",
        "total_images = 20\n",
        "\n",
        "# Create mosaic images and save\n",
        "for i in range(1, total_images + 1):\n",
        "    img_path = f'{original_dir}/{i:02d}.jpg'\n",
        "    img = Image.open(img_path).convert('RGB')\n",
        "    for j in range(10):  # Generate 20 mosaic images for each original image\n",
        "        mosaic_img = apply_mosaic(img, block_size=10)\n",
        "        mosaic_img.save(f'{mosaic_dir}/mosaic_{i:02d}_{j}.jpg')"
      ],
      "metadata": {
        "id": "3dvRHx82qZoH"
      },
      "execution_count": null,
      "outputs": []
    },
    {
      "cell_type": "code",
      "source": [
        "# Define data paths\n",
        "original_dir = 'dataset/original'\n",
        "mosaic_dir = 'dataset/mosaic'\n",
        "train_dir = 'dataset/train'\n",
        "validation_dir = 'dataset/validation'\n",
        "\n",
        "# Create directories for training and validation\n",
        "for category in ['original', 'mosaic']:\n",
        "    os.makedirs(os.path.join(train_dir, category), exist_ok=True)\n",
        "    os.makedirs(os.path.join(validation_dir, category), exist_ok=True)\n",
        "\n",
        "# Function to split data and move files\n",
        "def split_data(source_folder, train_folder, validation_folder, validation_split=0.2):\n",
        "    files = os.listdir(source_folder)\n",
        "    train_files, validation_files = train_test_split(files, test_size=validation_split)\n",
        "\n",
        "    # Copy files to training directory\n",
        "    for file in train_files:\n",
        "        shutil.copy(os.path.join(source_folder, file), os.path.join(train_folder, file))\n",
        "\n",
        "    # Copy files to validation directory\n",
        "    for file in validation_files:\n",
        "        shutil.copy(os.path.join(source_folder, file), os.path.join(validation_folder, file))\n",
        "\n",
        "# Apply function to original and distorted datasets\n",
        "split_data(original_dir, os.path.join(train_dir, 'original'), os.path.join(validation_dir, 'original'))\n",
        "split_data(mosaic_dir, os.path.join(train_dir, 'mosaic'), os.path.join(validation_dir, 'mosaic'))"
      ],
      "metadata": {
        "id": "3KjH3kvBp9Dx"
      },
      "execution_count": null,
      "outputs": []
    },
    {
      "cell_type": "code",
      "source": [
        "train_datagen = ImageDataGenerator(preprocessing_function=preprocess_input)\n",
        "train_generator = train_datagen.flow_from_directory(\n",
        "    'dataset/train',\n",
        "    target_size=(224, 224),\n",
        "    batch_size=5,\n",
        "    class_mode='categorical'\n",
        ")\n",
        "\n",
        "validation_datagen = ImageDataGenerator(preprocessing_function=preprocess_input)\n",
        "validation_generator = validation_datagen.flow_from_directory(\n",
        "    'dataset/validation',\n",
        "    target_size=(224, 224),\n",
        "    batch_size=5,\n",
        "    class_mode='categorical'\n",
        ")"
      ],
      "metadata": {
        "colab": {
          "base_uri": "https://localhost:8080/"
        },
        "id": "YXfzuOnbqEu3",
        "outputId": "bc6755e9-657b-4bab-94e4-45e53fbdef9c"
      },
      "execution_count": null,
      "outputs": [
        {
          "output_type": "stream",
          "name": "stdout",
          "text": [
            "Found 167 images belonging to 2 classes.\n",
            "Found 63 images belonging to 2 classes.\n"
          ]
        }
      ]
    },
    {
      "cell_type": "code",
      "source": [
        "import shutil\n",
        "\n",
        "def remove_unwanted_dirs(directory):\n",
        "    checkpoint_dir = os.path.join(directory, '.ipynb_checkpoints')\n",
        "    if os.path.exists(checkpoint_dir):\n",
        "        shutil.rmtree(checkpoint_dir)\n",
        "        print(f\"Removed {checkpoint_dir}\")\n",
        "\n",
        "remove_unwanted_dirs(train_dir)\n",
        "remove_unwanted_dirs(validation_dir)\n",
        "\n",
        "print(\"Updated training directories:\", os.listdir(train_dir))\n",
        "print(\"Updated validation directories:\", os.listdir(validation_dir))"
      ],
      "metadata": {
        "colab": {
          "base_uri": "https://localhost:8080/"
        },
        "id": "VbgLAI5nqHAq",
        "outputId": "1bb64345-d0ff-4434-ca4d-22e41148805f"
      },
      "execution_count": null,
      "outputs": [
        {
          "output_type": "stream",
          "name": "stdout",
          "text": [
            "Updated training directories: ['original', 'mosaic']\n",
            "Updated validation directories: ['original', 'mosaic']\n"
          ]
        }
      ]
    },
    {
      "cell_type": "code",
      "source": [
        "dataset_dir = 'dataset'\n",
        "print(\"Directories in dataset:\", os.listdir(dataset_dir))\n",
        "\n",
        "for category in os.listdir(dataset_dir):\n",
        "    category_path = os.path.join(dataset_dir, category)\n",
        "    if os.path.isdir(category_path):\n",
        "        print(f\"Contents of {category}:\", os.listdir(category_path))"
      ],
      "metadata": {
        "colab": {
          "base_uri": "https://localhost:8080/"
        },
        "id": "CQULsxEYqIVc",
        "outputId": "49d5eb34-aa02-4a11-b263-815e2a6bec85"
      },
      "execution_count": null,
      "outputs": [
        {
          "output_type": "stream",
          "name": "stdout",
          "text": [
            "Directories in dataset: ['original', 'validation', 'train', 'mosaic']\n",
            "Contents of original: ['20.jpg', '13.jpg', '06.jpg', '01.jpg', '03.jpg', '18.jpg', '04.jpg', '15.jpg', '16.jpg', '07.jpg', '11.jpg', '09.jpg', '14.jpg', '02.jpg', '19.jpg', '10.jpg', '12.jpg', '08.jpg', '05.jpg', '17.jpg']\n",
            "Contents of validation: ['original', 'mosaic']\n",
            "Contents of train: ['original', 'mosaic']\n",
            "Contents of mosaic: ['mosaic_07_1.jpg', 'mosaic_10_2.jpg', 'mosaic_03_0.jpg', 'mosaic_08_2.jpg', 'mosaic_12_3.jpg', 'mosaic_01_7.jpg', 'mosaic_12_6.jpg', 'mosaic_01_18.jpg', 'mosaic_11_5.jpg', 'mosaic_01_16.jpg', 'mosaic_02_6.jpg', 'mosaic_02_12.jpg', 'mosaic_05_1.jpg', 'mosaic_09_7.jpg', 'mosaic_05_8.jpg', 'mosaic_01_1.jpg', 'mosaic_11_0.jpg', 'mosaic_06_9.jpg', 'mosaic_13_1.jpg', 'mosaic_10_4.jpg', 'mosaic_07_3.jpg', 'mosaic_09_5.jpg', 'mosaic_14_0.jpg', 'mosaic_09_9.jpg', 'mosaic_01_8.jpg', 'mosaic_14_1.jpg', 'mosaic_02_15.jpg', 'mosaic_12_7.jpg', 'mosaic_01_11.jpg', 'mosaic_11_4.jpg', 'mosaic_13_5.jpg', 'mosaic_10_6.jpg', 'mosaic_02_0.jpg', 'mosaic_01_14.jpg', 'mosaic_08_0.jpg', 'mosaic_02_3.jpg', 'mosaic_03_2.jpg', 'mosaic_04_4.jpg', 'mosaic_02_10.jpg', 'mosaic_07_0.jpg', 'mosaic_12_4.jpg', 'mosaic_13_2.jpg', 'mosaic_09_2.jpg', 'mosaic_13_6.jpg', 'mosaic_07_5.jpg', 'mosaic_04_9.jpg', 'mosaic_03_1.jpg', 'mosaic_01_13.jpg', 'mosaic_03_6.jpg', 'mosaic_01_3.jpg', 'mosaic_11_6.jpg', 'mosaic_03_8.jpg', 'mosaic_02_18.jpg', 'mosaic_04_0.jpg', 'mosaic_08_9.jpg', 'mosaic_01_4.jpg', 'mosaic_08_7.jpg', 'mosaic_03_4.jpg', 'mosaic_11_9.jpg', 'mosaic_12_5.jpg', 'mosaic_04_2.jpg', 'mosaic_10_0.jpg', 'mosaic_02_14.jpg', 'mosaic_02_4.jpg', 'mosaic_02_9.jpg', 'mosaic_06_8.jpg', 'mosaic_11_1.jpg', 'mosaic_09_8.jpg', 'mosaic_08_6.jpg', 'mosaic_10_7.jpg', 'mosaic_10_5.jpg', 'mosaic_05_3.jpg', 'mosaic_08_4.jpg', 'mosaic_04_3.jpg', 'mosaic_08_3.jpg', 'mosaic_01_0.jpg', 'mosaic_02_1.jpg', 'mosaic_05_5.jpg', 'mosaic_02_2.jpg', 'mosaic_11_8.jpg', 'mosaic_13_4.jpg', 'mosaic_06_7.jpg', 'mosaic_08_1.jpg', 'mosaic_04_6.jpg', 'mosaic_05_2.jpg', 'mosaic_02_5.jpg', 'mosaic_04_7.jpg', 'mosaic_02_7.jpg', 'mosaic_01_17.jpg', 'mosaic_01_19.jpg', 'mosaic_14_3.jpg', 'mosaic_12_9.jpg', 'mosaic_10_3.jpg', 'mosaic_07_4.jpg', 'mosaic_05_6.jpg', 'mosaic_06_3.jpg', 'mosaic_01_10.jpg', 'mosaic_07_9.jpg', 'mosaic_12_2.jpg', 'mosaic_10_9.jpg', 'mosaic_07_7.jpg', 'mosaic_14_2.jpg', 'mosaic_04_8.jpg', 'mosaic_01_6.jpg', 'mosaic_05_4.jpg', 'mosaic_09_4.jpg', 'mosaic_06_0.jpg', 'mosaic_01_9.jpg', 'mosaic_02_11.jpg', 'mosaic_03_9.jpg', 'mosaic_03_7.jpg', 'mosaic_07_2.jpg', 'mosaic_02_17.jpg', 'mosaic_03_3.jpg', 'mosaic_08_5.jpg', 'mosaic_02_8.jpg', 'mosaic_09_1.jpg', 'mosaic_06_5.jpg', 'mosaic_05_9.jpg', 'mosaic_06_4.jpg', 'mosaic_02_19.jpg', 'mosaic_03_5.jpg', 'mosaic_05_0.jpg', 'mosaic_13_8.jpg', 'mosaic_10_1.jpg', 'mosaic_13_0.jpg', 'mosaic_06_1.jpg', 'mosaic_09_0.jpg', 'mosaic_08_8.jpg', 'mosaic_04_5.jpg', 'mosaic_11_2.jpg', 'mosaic_12_8.jpg', 'mosaic_13_7.jpg', 'mosaic_05_7.jpg', 'mosaic_06_6.jpg', 'mosaic_11_3.jpg', 'mosaic_01_5.jpg', 'mosaic_01_2.jpg', 'mosaic_13_9.jpg', 'mosaic_13_3.jpg', 'mosaic_01_12.jpg', 'mosaic_04_1.jpg', 'mosaic_02_13.jpg', 'mosaic_07_6.jpg', 'mosaic_09_3.jpg', 'mosaic_10_8.jpg', 'mosaic_12_1.jpg', 'mosaic_01_15.jpg', 'mosaic_06_2.jpg', 'mosaic_07_8.jpg', 'mosaic_12_0.jpg', 'mosaic_14_4.jpg', 'mosaic_09_6.jpg', 'mosaic_11_7.jpg', 'mosaic_02_16.jpg']\n"
          ]
        }
      ]
    },
    {
      "cell_type": "code",
      "source": [
        "import shutil\n",
        "import os\n",
        "\n",
        "directories_to_remove = ['original', 'mosaic']\n",
        "base_dir = 'dataset'\n",
        "\n",
        "for dir_name in directories_to_remove:\n",
        "    dir_path = os.path.join(base_dir, dir_name)\n",
        "    if os.path.exists(dir_path):\n",
        "        shutil.rmtree(dir_path)\n",
        "        print(f\"Removed directory: {dir_path}\")\n",
        "    else:\n",
        "        print(f\"Directory does not exist, no need to remove: {dir_path}\")\n",
        "\n",
        "print(\"Updated contents of the dataset directory:\", os.listdir(base_dir))"
      ],
      "metadata": {
        "colab": {
          "base_uri": "https://localhost:8080/"
        },
        "id": "UqffMzSvqJtr",
        "outputId": "a72b9d8d-45cd-46af-9c21-3cd0f3126c2c"
      },
      "execution_count": null,
      "outputs": [
        {
          "output_type": "stream",
          "name": "stdout",
          "text": [
            "Removed directory: dataset/original\n",
            "Removed directory: dataset/mosaic\n",
            "Updated contents of the dataset directory: ['validation', 'train']\n"
          ]
        }
      ]
    },
    {
      "cell_type": "code",
      "source": [
        "!pip install tensorflow_addons"
      ],
      "metadata": {
        "colab": {
          "base_uri": "https://localhost:8080/"
        },
        "id": "0Hu0W3U9xToe",
        "outputId": "b4a825cd-a66b-4df1-8672-9ba2dba82bca"
      },
      "execution_count": null,
      "outputs": [
        {
          "output_type": "stream",
          "name": "stdout",
          "text": [
            "Collecting tensorflow_addons\n",
            "  Downloading tensorflow_addons-0.23.0-cp310-cp310-manylinux_2_17_x86_64.manylinux2014_x86_64.whl (611 kB)\n",
            "\u001b[2K     \u001b[90m━━━━━━━━━━━━━━━━━━━━━━━━━━━━━━━━━━━━━━━━\u001b[0m \u001b[32m611.8/611.8 kB\u001b[0m \u001b[31m6.2 MB/s\u001b[0m eta \u001b[36m0:00:00\u001b[0m\n",
            "\u001b[?25hRequirement already satisfied: packaging in /usr/local/lib/python3.10/dist-packages (from tensorflow_addons) (24.0)\n",
            "Collecting typeguard<3.0.0,>=2.7 (from tensorflow_addons)\n",
            "  Downloading typeguard-2.13.3-py3-none-any.whl (17 kB)\n",
            "Installing collected packages: typeguard, tensorflow_addons\n",
            "Successfully installed tensorflow_addons-0.23.0 typeguard-2.13.3\n"
          ]
        }
      ]
    },
    {
      "cell_type": "code",
      "source": [
        "import tensorflow_addons as tfa\n",
        "\n",
        "# Load the pre-trained VGG16 model\n",
        "base_model = VGG16(weights='imagenet', include_top=False, input_shape=(224, 224, 3))\n",
        "for layer in base_model.layers:\n",
        "    layer.trainable = False\n",
        "\n",
        "# Add custom layers\n",
        "x = Flatten()(base_model.output)\n",
        "x = Dense(256, activation='relu', kernel_regularizer=l2(0.001))(x)  # L2\n",
        "x = Dropout(0.5)(x)  # Dropout\n",
        "predictions = Dense(1, activation='sigmoid')(x)\n",
        "\n",
        "optimizer = tfa.optimizers.AdamW(learning_rate=0.0001, weight_decay=0.001)\n",
        "\n",
        "# Compile the model\n",
        "model = Model(inputs=base_model.input, outputs=predictions)\n",
        "model.compile(optimizer=optimizer, loss='binary_crossentropy', metrics=['accuracy'])\n",
        "\n",
        "# Prepare training data\n",
        "train_datagen = ImageDataGenerator(\n",
        "    preprocessing_function=preprocess_input,\n",
        "    validation_split=0.2  # Use 20% of the data as validation set\n",
        ")\n",
        "\n",
        "train_generator = train_datagen.flow_from_directory(\n",
        "    'dataset',\n",
        "    target_size=(224, 224),\n",
        "    batch_size=5,\n",
        "    class_mode='binary',\n",
        "    subset='training'\n",
        ")\n",
        "\n",
        "validation_generator = train_datagen.flow_from_directory(\n",
        "    'dataset',\n",
        "    target_size=(224, 224),\n",
        "    batch_size=5,\n",
        "    class_mode='binary',\n",
        "    subset='validation'\n",
        ")\n",
        "\n",
        "# Use early stopping to avoid overfitting\n",
        "early_stopping = EarlyStopping(monitor='val_loss', patience=10, verbose=1, mode='min', restore_best_weights=True)"
      ],
      "metadata": {
        "colab": {
          "base_uri": "https://localhost:8080/"
        },
        "id": "Dp6NKsgxqKxY",
        "outputId": "f33f06b5-c309-4162-a428-5f690dd75299"
      },
      "execution_count": null,
      "outputs": [
        {
          "output_type": "stream",
          "name": "stderr",
          "text": [
            "/usr/local/lib/python3.10/dist-packages/tensorflow_addons/utils/tfa_eol_msg.py:23: UserWarning: \n",
            "\n",
            "TensorFlow Addons (TFA) has ended development and introduction of new features.\n",
            "TFA has entered a minimal maintenance and release mode until a planned end of life in May 2024.\n",
            "Please modify downstream libraries to take dependencies from other repositories in our TensorFlow community (e.g. Keras, Keras-CV, and Keras-NLP). \n",
            "\n",
            "For more information see: https://github.com/tensorflow/addons/issues/2807 \n",
            "\n",
            "  warnings.warn(\n"
          ]
        },
        {
          "output_type": "stream",
          "name": "stdout",
          "text": [
            "Found 185 images belonging to 2 classes.\n",
            "Found 45 images belonging to 2 classes.\n"
          ]
        }
      ]
    },
    {
      "cell_type": "code",
      "source": [
        "# @title\n",
        "# Train the model\n",
        "history = model.fit(\n",
        "    train_generator,\n",
        "    steps_per_epoch=15,\n",
        "    epochs=10,\n",
        "    callbacks=[early_stopping],\n",
        "    validation_data=validation_generator,\n",
        "    validation_steps=5\n",
        ")\n",
        "\n",
        "# Evaluate the model\n",
        "results = model.evaluate(validation_generator)\n",
        "print(\"Test loss, Test accuracy:\", results)"
      ],
      "metadata": {
        "colab": {
          "base_uri": "https://localhost:8080/"
        },
        "id": "TKEKVnWYqMDl",
        "outputId": "20eeac5d-1b08-4669-82be-21d9cd60aa86"
      },
      "execution_count": null,
      "outputs": [
        {
          "output_type": "stream",
          "name": "stdout",
          "text": [
            "Epoch 1/10\n",
            "15/15 [==============================] - 64s 4s/step - loss: 5.5094 - accuracy: 0.6267 - val_loss: 8.4392 - val_accuracy: 0.4800\n",
            "Epoch 2/10\n",
            "15/15 [==============================] - 64s 4s/step - loss: 5.7389 - accuracy: 0.6667 - val_loss: 11.0826 - val_accuracy: 0.5600\n",
            "Epoch 3/10\n",
            "15/15 [==============================] - 57s 4s/step - loss: 7.4064 - accuracy: 0.5600 - val_loss: 7.5021 - val_accuracy: 0.6400\n",
            "Epoch 4/10\n",
            "15/15 [==============================] - 65s 4s/step - loss: 4.4807 - accuracy: 0.7200 - val_loss: 5.5019 - val_accuracy: 0.6400\n",
            "Epoch 5/10\n",
            "15/15 [==============================] - 62s 4s/step - loss: 3.6913 - accuracy: 0.6800 - val_loss: 7.5573 - val_accuracy: 0.5200\n",
            "Epoch 6/10\n",
            "15/15 [==============================] - 66s 4s/step - loss: 4.9170 - accuracy: 0.5733 - val_loss: 12.0251 - val_accuracy: 0.5200\n",
            "Epoch 7/10\n",
            "15/15 [==============================] - 61s 4s/step - loss: 5.0167 - accuracy: 0.4667 - val_loss: 8.1230 - val_accuracy: 0.4800\n",
            "Epoch 8/10\n",
            "15/15 [==============================] - 66s 5s/step - loss: 4.8463 - accuracy: 0.5867 - val_loss: 1.4502 - val_accuracy: 0.7200\n",
            "Epoch 9/10\n",
            "15/15 [==============================] - 61s 4s/step - loss: 3.6583 - accuracy: 0.6800 - val_loss: 1.0817 - val_accuracy: 0.6400\n",
            "Epoch 10/10\n",
            "15/15 [==============================] - 62s 4s/step - loss: 3.1049 - accuracy: 0.6400 - val_loss: 3.7139 - val_accuracy: 0.5600\n",
            "9/9 [==============================] - 27s 3s/step - loss: 4.4409 - accuracy: 0.4889\n",
            "Test loss, Test accuracy: [4.4409098625183105, 0.4888888895511627]\n"
          ]
        }
      ]
    }
  ]
}