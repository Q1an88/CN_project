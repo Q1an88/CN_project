{
  "nbformat": 4,
  "nbformat_minor": 0,
  "metadata": {
    "colab": {
      "provenance": []
    },
    "kernelspec": {
      "name": "python3",
      "display_name": "Python 3"
    },
    "language_info": {
      "name": "python"
    }
  },
  "cells": [
    {
      "cell_type": "code",
      "execution_count": 16,
      "metadata": {
        "id": "O4RT5f21WgPw"
      },
      "outputs": [],
      "source": [
        "import cv2\n",
        "import os\n",
        "import shutil\n",
        "import numpy as np\n",
        "import zipfile\n",
        "import pandas as pd\n",
        "from sklearn.model_selection import train_test_split\n",
        "from keras.preprocessing.image import ImageDataGenerator, img_to_array, load_img\n",
        "from keras.applications.vgg16 import VGG16, preprocess_input\n",
        "from keras.layers import Dense, Flatten, Dropout\n",
        "from keras.models import Model\n",
        "from keras.optimizers import Adam\n",
        "from keras.callbacks import EarlyStopping\n",
        "from tqdm import tqdm\n",
        "from PIL import Image, ImageFilter, ImageEnhance\n",
        "from keras.optimizers import Adam\n",
        "from keras.regularizers import l2"
      ]
    },
    {
      "cell_type": "code",
      "source": [
        "# Unzipping the image dataset\n",
        "zip_ref = zipfile.ZipFile('original.zip', 'r')\n",
        "zip_ref.extractall('dataset')  # Extracting to the 'dataset' folder\n",
        "zip_ref.close()"
      ],
      "metadata": {
        "id": "DCUDciRMaz4l"
      },
      "execution_count": 2,
      "outputs": []
    },
    {
      "cell_type": "code",
      "source": [
        "def apply_fisheye(image):\n",
        "    width, height = image.size\n",
        "    radius = min(width, height) / 2\n",
        "    center_x, center_y = width / 2, height / 2\n",
        "    fisheye_image = image.copy()\n",
        "\n",
        "    pixels = fisheye_image.load()\n",
        "    original_pixels = image.load()\n",
        "\n",
        "    for i in range(width):\n",
        "        for j in range(height):\n",
        "            rel_x = (i - center_x) / radius\n",
        "            rel_y = (j - center_y) / radius\n",
        "\n",
        "            original_distance = np.sqrt(rel_x**2 + rel_y**2)\n",
        "            if original_distance == 0:\n",
        "                continue\n",
        "\n",
        "            new_distance = original_distance ** 2\n",
        "\n",
        "            new_x = int(rel_x * new_distance * radius + center_x)\n",
        "            new_y = int(rel_y * new_distance * radius + center_y)\n",
        "\n",
        "            if 0 <= new_x < width and 0 <= new_y < height:\n",
        "                pixels[i, j] = original_pixels[new_x, new_y]\n",
        "            else:\n",
        "                pixels[i, j] = (0, 0, 0)\n",
        "\n",
        "    return fisheye_image\n",
        "\n",
        "# Ensure the target directory exists\n",
        "fisheye_dir = 'dataset/fisheye'\n",
        "if not os.path.exists(fisheye_dir):\n",
        "    os.makedirs(fisheye_dir)\n",
        "\n",
        "# Specify the path to the original images\n",
        "original_dir = 'dataset/original'\n",
        "total_images = 20\n",
        "\n",
        "# Create 10 fisheye images and save\n",
        "for i in range(1, total_images + 1):\n",
        "    img_path = f'{original_dir}/{i:02d}.jpg'\n",
        "    img = Image.open(img_path).convert('RGB')\n",
        "    for j in range(10):\n",
        "        fisheye_img = apply_fisheye(img)\n",
        "        fisheye_img.save(f'{fisheye_dir}/fisheye_{i:02d}_{j}.jpg')"
      ],
      "metadata": {
        "id": "n23MCxgnriyZ"
      },
      "execution_count": null,
      "outputs": []
    },
    {
      "cell_type": "code",
      "source": [
        "# Define data paths\n",
        "original_dir = 'dataset/original'\n",
        "fisheye_dir = 'dataset/fisheye'\n",
        "train_dir = 'dataset/train'\n",
        "validation_dir = 'dataset/validation'\n",
        "\n",
        "# Create directories for training and validation\n",
        "for category in ['original', 'fisheye']:\n",
        "    os.makedirs(os.path.join(train_dir, category), exist_ok=True)\n",
        "    os.makedirs(os.path.join(validation_dir, category), exist_ok=True)\n",
        "\n",
        "# Function to split data and move files\n",
        "def split_data(source_folder, train_folder, validation_folder, validation_split=0.2):\n",
        "    files = os.listdir(source_folder)\n",
        "    train_files, validation_files = train_test_split(files, test_size=validation_split)\n",
        "\n",
        "    # Copy files to training directory\n",
        "    for file in train_files:\n",
        "        shutil.copy(os.path.join(source_folder, file), os.path.join(train_folder, file))\n",
        "\n",
        "    # Copy files to validation directory\n",
        "    for file in validation_files:\n",
        "        shutil.copy(os.path.join(source_folder, file), os.path.join(validation_folder, file))\n",
        "\n",
        "# Apply function to original and distorted datasets\n",
        "split_data(original_dir, os.path.join(train_dir, 'original'), os.path.join(validation_dir, 'original'))\n",
        "split_data(fisheye_dir, os.path.join(train_dir, 'fisheye'), os.path.join(validation_dir, 'fisheye'))"
      ],
      "metadata": {
        "id": "9s6VXm2irnvT"
      },
      "execution_count": 7,
      "outputs": []
    },
    {
      "cell_type": "code",
      "source": [
        "train_datagen = ImageDataGenerator(preprocessing_function=preprocess_input)\n",
        "train_generator = train_datagen.flow_from_directory(\n",
        "    'dataset/train',\n",
        "    target_size=(224, 224),\n",
        "    batch_size=5,\n",
        "    class_mode='categorical'\n",
        ")\n",
        "\n",
        "validation_datagen = ImageDataGenerator(preprocessing_function=preprocess_input)\n",
        "validation_generator = validation_datagen.flow_from_directory(\n",
        "    'dataset/validation',\n",
        "    target_size=(224, 224),\n",
        "    batch_size=5,\n",
        "    class_mode='categorical'\n",
        ")"
      ],
      "metadata": {
        "colab": {
          "base_uri": "https://localhost:8080/"
        },
        "id": "ygl7XDxtbuG8",
        "outputId": "177d08be-423d-4856-a232-a36e320397ad"
      },
      "execution_count": 8,
      "outputs": [
        {
          "output_type": "stream",
          "name": "stdout",
          "text": [
            "Found 164 images belonging to 2 classes.\n",
            "Found 41 images belonging to 2 classes.\n"
          ]
        }
      ]
    },
    {
      "cell_type": "code",
      "source": [
        "import shutil\n",
        "\n",
        "def remove_unwanted_dirs(directory):\n",
        "    checkpoint_dir = os.path.join(directory, '.ipynb_checkpoints')\n",
        "    if os.path.exists(checkpoint_dir):\n",
        "        shutil.rmtree(checkpoint_dir)\n",
        "        print(f\"Removed {checkpoint_dir}\")\n",
        "\n",
        "remove_unwanted_dirs(train_dir)\n",
        "remove_unwanted_dirs(validation_dir)\n",
        "\n",
        "print(\"Updated training directories:\", os.listdir(train_dir))\n",
        "print(\"Updated validation directories:\", os.listdir(validation_dir))"
      ],
      "metadata": {
        "colab": {
          "base_uri": "https://localhost:8080/"
        },
        "id": "pJnIAIHWrwRF",
        "outputId": "470777c3-4e45-41a1-a4a8-2fa1cf30cf56"
      },
      "execution_count": 9,
      "outputs": [
        {
          "output_type": "stream",
          "name": "stdout",
          "text": [
            "Updated training directories: ['original', 'fisheye']\n",
            "Updated validation directories: ['original', 'fisheye']\n"
          ]
        }
      ]
    },
    {
      "cell_type": "code",
      "source": [
        "import shutil\n",
        "import os\n",
        "\n",
        "directories_to_remove = ['original', 'fisheye']\n",
        "base_dir = 'dataset'\n",
        "\n",
        "for dir_name in directories_to_remove:\n",
        "    dir_path = os.path.join(base_dir, dir_name)\n",
        "    if os.path.exists(dir_path):\n",
        "        shutil.rmtree(dir_path)\n",
        "        print(f\"Removed directory: {dir_path}\")\n",
        "    else:\n",
        "        print(f\"Directory does not exist, no need to remove: {dir_path}\")\n",
        "\n",
        "print(\"Updated contents of the dataset directory:\", os.listdir(base_dir))"
      ],
      "metadata": {
        "colab": {
          "base_uri": "https://localhost:8080/"
        },
        "id": "jhhd9SGqry5W",
        "outputId": "78d0c831-46ff-4b8c-ead6-14d04d039aff"
      },
      "execution_count": 10,
      "outputs": [
        {
          "output_type": "stream",
          "name": "stdout",
          "text": [
            "Removed directory: dataset/original\n",
            "Removed directory: dataset/fisheye\n",
            "Updated contents of the dataset directory: ['validation', 'train']\n"
          ]
        }
      ]
    },
    {
      "cell_type": "code",
      "source": [
        "!pip install tensorflow_addons\n",
        "import tensorflow_addons as tfa\n",
        "\n",
        "# Load the pre-trained VGG16 model\n",
        "base_model = VGG16(weights='imagenet', include_top=False, input_shape=(224, 224, 3))\n",
        "for layer in base_model.layers:\n",
        "    layer.trainable = False\n",
        "\n",
        "# Add custom layers\n",
        "x = Flatten()(base_model.output)\n",
        "x = Dense(256, activation='relu', kernel_regularizer=l2(0.001))(x)  # L2\n",
        "x = Dropout(0.5)(x)  # Dropout\n",
        "predictions = Dense(1, activation='sigmoid')(x)\n",
        "\n",
        "optimizer = tfa.optimizers.AdamW(learning_rate=0.0001, weight_decay=0.001)\n",
        "\n",
        "# Compile the model\n",
        "model = Model(inputs=base_model.input, outputs=predictions)\n",
        "model.compile(optimizer=optimizer, loss='binary_crossentropy', metrics=['accuracy'])\n",
        "\n",
        "# Prepare training data\n",
        "train_datagen = ImageDataGenerator(\n",
        "    preprocessing_function=preprocess_input,\n",
        "    validation_split=0.2  # Use 20% of the data as validation set\n",
        ")\n",
        "\n",
        "train_generator = train_datagen.flow_from_directory(\n",
        "    'dataset',\n",
        "    target_size=(224, 224),\n",
        "    batch_size=5,\n",
        "    class_mode='binary',\n",
        "    subset='training'\n",
        ")\n",
        "\n",
        "validation_generator = train_datagen.flow_from_directory(\n",
        "    'dataset',\n",
        "    target_size=(224, 224),\n",
        "    batch_size=5,\n",
        "    class_mode='binary',\n",
        "    subset='validation'\n",
        ")\n",
        "\n",
        "# Use early stopping to avoid overfitting\n",
        "early_stopping = EarlyStopping(monitor='val_loss', patience=10, verbose=1, mode='min', restore_best_weights=True)"
      ],
      "metadata": {
        "colab": {
          "base_uri": "https://localhost:8080/"
        },
        "id": "l9Iv4sTxdr1W",
        "outputId": "ed4d4f0d-3132-4de9-ce74-c75091f91dd0"
      },
      "execution_count": 17,
      "outputs": [
        {
          "output_type": "stream",
          "name": "stdout",
          "text": [
            "Requirement already satisfied: tensorflow_addons in /usr/local/lib/python3.10/dist-packages (0.23.0)\n",
            "Requirement already satisfied: packaging in /usr/local/lib/python3.10/dist-packages (from tensorflow_addons) (24.0)\n",
            "Requirement already satisfied: typeguard<3.0.0,>=2.7 in /usr/local/lib/python3.10/dist-packages (from tensorflow_addons) (2.13.3)\n",
            "Found 165 images belonging to 2 classes.\n",
            "Found 40 images belonging to 2 classes.\n"
          ]
        }
      ]
    },
    {
      "cell_type": "code",
      "source": [
        "# Train the model\n",
        "history = model.fit(\n",
        "    train_generator,\n",
        "    steps_per_epoch=15,\n",
        "    epochs=10,\n",
        "    callbacks=[early_stopping],\n",
        "    validation_data=validation_generator,\n",
        "    validation_steps=5\n",
        ")\n",
        "\n",
        "# Evaluate the model\n",
        "results = model.evaluate(validation_generator)\n",
        "print(\"Test loss, Test accuracy:\", results)"
      ],
      "metadata": {
        "colab": {
          "base_uri": "https://localhost:8080/"
        },
        "id": "OObWrbugds0W",
        "outputId": "03d6e0db-2a21-4642-c51c-27576af7a114"
      },
      "execution_count": 18,
      "outputs": [
        {
          "output_type": "stream",
          "name": "stdout",
          "text": [
            "Epoch 1/10\n",
            "15/15 [==============================] - 71s 5s/step - loss: 6.8388 - accuracy: 0.6933 - val_loss: 8.0077 - val_accuracy: 0.3200\n",
            "Epoch 2/10\n",
            "15/15 [==============================] - 58s 4s/step - loss: 7.4211 - accuracy: 0.7600 - val_loss: 21.9727 - val_accuracy: 0.3600\n",
            "Epoch 3/10\n",
            "15/15 [==============================] - 58s 4s/step - loss: 6.4696 - accuracy: 0.7733 - val_loss: 20.9747 - val_accuracy: 0.3200\n",
            "Epoch 4/10\n",
            "15/15 [==============================] - 57s 4s/step - loss: 6.0537 - accuracy: 0.7600 - val_loss: 11.1107 - val_accuracy: 0.3600\n",
            "Epoch 5/10\n",
            "15/15 [==============================] - 63s 4s/step - loss: 5.4660 - accuracy: 0.8000 - val_loss: 10.6525 - val_accuracy: 0.4400\n",
            "Epoch 6/10\n",
            "15/15 [==============================] - 56s 4s/step - loss: 4.6981 - accuracy: 0.7600 - val_loss: 22.3181 - val_accuracy: 0.3600\n",
            "Epoch 7/10\n",
            "15/15 [==============================] - 57s 4s/step - loss: 8.4083 - accuracy: 0.7067 - val_loss: 32.3394 - val_accuracy: 0.2800\n",
            "Epoch 8/10\n",
            "15/15 [==============================] - 64s 4s/step - loss: 5.6198 - accuracy: 0.6667 - val_loss: 27.7853 - val_accuracy: 0.3200\n",
            "Epoch 9/10\n",
            "15/15 [==============================] - 57s 4s/step - loss: 4.3346 - accuracy: 0.7200 - val_loss: 21.9791 - val_accuracy: 0.4000\n",
            "Epoch 10/10\n",
            "15/15 [==============================] - 64s 4s/step - loss: 5.7110 - accuracy: 0.7867 - val_loss: 23.4847 - val_accuracy: 0.3600\n",
            "8/8 [==============================] - 23s 3s/step - loss: 21.4440 - accuracy: 0.3750\n",
            "Test loss, Test accuracy: [21.443994522094727, 0.375]\n"
          ]
        }
      ]
    }
  ]
}