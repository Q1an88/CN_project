{
  "nbformat": 4,
  "nbformat_minor": 0,
  "metadata": {
    "colab": {
      "provenance": []
    },
    "kernelspec": {
      "name": "python3",
      "display_name": "Python 3"
    },
    "language_info": {
      "name": "python"
    }
  },
  "cells": [
    {
      "cell_type": "code",
      "execution_count": 1,
      "metadata": {
        "id": "QVjtdwpyH0K4"
      },
      "outputs": [],
      "source": [
        "import cv2\n",
        "import os\n",
        "import shutil\n",
        "import numpy as np\n",
        "import zipfile\n",
        "import pandas as pd\n",
        "from sklearn.model_selection import train_test_split\n",
        "from keras.preprocessing.image import ImageDataGenerator, img_to_array, load_img\n",
        "from keras.applications.vgg16 import VGG16, preprocess_input\n",
        "from keras.layers import Dense, Flatten, Dropout\n",
        "from keras.models import Model\n",
        "from keras.optimizers import Adam\n",
        "from keras.callbacks import EarlyStopping\n",
        "from tqdm import tqdm\n",
        "from PIL import Image, ImageFilter, ImageEnhance\n",
        "from keras.optimizers import Adam\n",
        "from keras.regularizers import l2"
      ]
    },
    {
      "cell_type": "code",
      "source": [
        "# Unzipping the image dataset\n",
        "zip_ref = zipfile.ZipFile('original.zip', 'r')\n",
        "zip_ref.extractall('dataset')  # Extracting to the 'dataset' folder\n",
        "zip_ref.close()"
      ],
      "metadata": {
        "id": "D7S2XZubH3np"
      },
      "execution_count": 2,
      "outputs": []
    },
    {
      "cell_type": "code",
      "source": [
        "# Set the rotation parameters\n",
        "datagen = ImageDataGenerator(\n",
        "    rescale=1./255,\n",
        "    rotation_range=90,\n",
        "    fill_mode='nearest'\n",
        ")\n",
        "\n",
        "# Create the image data generator\n",
        "if not os.path.exists('dataset/rotated'):\n",
        "    os.makedirs('dataset/rotated')\n",
        "\n",
        "# Specify the path to the original image\n",
        "original_dir = 'dataset/original'\n",
        "\n",
        "# Specify the number of images to generate\n",
        "total_images = 20"
      ],
      "metadata": {
        "id": "HkqMVgKDIeRp"
      },
      "execution_count": 3,
      "outputs": []
    },
    {
      "cell_type": "code",
      "source": [
        "original_dir = 'dataset/original'\n",
        "save_dir = 'dataset/rotated'\n",
        "\n",
        "# Ensure the save directory exists\n",
        "os.makedirs(save_dir, exist_ok=True)\n",
        "\n",
        "# Number of rotated images to generate per original image\n",
        "num_rotations = 10\n",
        "\n",
        "# Process each image in the original directory\n",
        "for filename in os.listdir(original_dir):\n",
        "    if filename.endswith('.jpg'):\n",
        "        # Load the image from file\n",
        "        img_path = os.path.join(original_dir, filename)\n",
        "        img = load_img(img_path)\n",
        "        x = img_to_array(img)\n",
        "        x = x.reshape((1,) + x.shape)  # Reshape to (1, height, width, channels)\n",
        "\n",
        "        # Create and save rotated images\n",
        "        i = 0\n",
        "        for batch in datagen.flow(x, batch_size=1, save_to_dir=save_dir, save_prefix='rot', save_format='jpeg'):\n",
        "            i += 1\n",
        "            if i >= num_rotations:\n",
        "                break"
      ],
      "metadata": {
        "id": "Q5VfbrGrAVvP"
      },
      "execution_count": null,
      "outputs": []
    },
    {
      "cell_type": "code",
      "source": [
        "# Define data paths\n",
        "original_dir = 'dataset/original'\n",
        "rotated_dir = 'dataset/rotated'\n",
        "train_dir = 'dataset/train'\n",
        "validation_dir = 'dataset/validation'\n",
        "\n",
        "# Create directories for training and validation\n",
        "for category in ['original', 'rotated']:\n",
        "    os.makedirs(os.path.join(train_dir, category), exist_ok=True)\n",
        "    os.makedirs(os.path.join(validation_dir, category), exist_ok=True)\n",
        "\n",
        "# Function to split data and move files\n",
        "def split_data(source_folder, train_folder, validation_folder, validation_split=0.2):\n",
        "    files = os.listdir(source_folder)\n",
        "    train_files, validation_files = train_test_split(files, test_size=validation_split)\n",
        "\n",
        "    # Copy files to training directory\n",
        "    for file in train_files:\n",
        "        shutil.copy(os.path.join(source_folder, file), os.path.join(train_folder, file))\n",
        "\n",
        "    # Copy files to validation directory\n",
        "    for file in validation_files:\n",
        "        shutil.copy(os.path.join(source_folder, file), os.path.join(validation_folder, file))\n",
        "\n",
        "# Apply function to original and distorted datasets\n",
        "split_data(original_dir, os.path.join(train_dir, 'original'), os.path.join(validation_dir, 'original'))\n",
        "split_data(rotated_dir, os.path.join(train_dir, 'rotated'), os.path.join(validation_dir, 'rotated'))"
      ],
      "metadata": {
        "id": "OqJ0cRfsLymy"
      },
      "execution_count": 6,
      "outputs": []
    },
    {
      "cell_type": "code",
      "source": [
        "train_datagen = ImageDataGenerator(preprocessing_function=preprocess_input)\n",
        "train_generator = train_datagen.flow_from_directory(\n",
        "    'dataset/train',\n",
        "    target_size=(224, 224),\n",
        "    batch_size=5,\n",
        "    class_mode='categorical'\n",
        ")\n",
        "\n",
        "validation_datagen = ImageDataGenerator(preprocessing_function=preprocess_input)\n",
        "validation_generator = validation_datagen.flow_from_directory(\n",
        "    'dataset/validation',\n",
        "    target_size=(224, 224),\n",
        "    batch_size=5,\n",
        "    class_mode='categorical'\n",
        ")"
      ],
      "metadata": {
        "colab": {
          "base_uri": "https://localhost:8080/"
        },
        "id": "bFTmNzn3Igdv",
        "outputId": "11fd3751-af5c-4f5d-bf0f-a6a62d75c2f7"
      },
      "execution_count": 7,
      "outputs": [
        {
          "output_type": "stream",
          "name": "stdout",
          "text": [
            "Found 116 images belonging to 2 classes.\n",
            "Found 30 images belonging to 2 classes.\n"
          ]
        }
      ]
    },
    {
      "cell_type": "code",
      "source": [
        "import shutil\n",
        "\n",
        "def remove_unwanted_dirs(directory):\n",
        "    checkpoint_dir = os.path.join(directory, '.ipynb_checkpoints')\n",
        "    if os.path.exists(checkpoint_dir):\n",
        "        shutil.rmtree(checkpoint_dir)\n",
        "        print(f\"Removed {checkpoint_dir}\")\n",
        "\n",
        "remove_unwanted_dirs(train_dir)\n",
        "remove_unwanted_dirs(validation_dir)\n",
        "\n",
        "print(\"Updated training directories:\", os.listdir(train_dir))\n",
        "print(\"Updated validation directories:\", os.listdir(validation_dir))"
      ],
      "metadata": {
        "colab": {
          "base_uri": "https://localhost:8080/"
        },
        "id": "axuIeemKIleo",
        "outputId": "59a1b1f4-1f06-4db8-c0fc-12d4b6ff771a"
      },
      "execution_count": 8,
      "outputs": [
        {
          "output_type": "stream",
          "name": "stdout",
          "text": [
            "Updated training directories: ['original', 'rotated']\n",
            "Updated validation directories: ['original', 'rotated']\n"
          ]
        }
      ]
    },
    {
      "cell_type": "code",
      "source": [
        "dataset_dir = 'dataset'\n",
        "print(\"Directories in dataset:\", os.listdir(dataset_dir))\n",
        "\n",
        "for category in os.listdir(dataset_dir):\n",
        "    category_path = os.path.join(dataset_dir, category)\n",
        "    if os.path.isdir(category_path):\n",
        "        print(f\"Contents of {category}:\", os.listdir(category_path))"
      ],
      "metadata": {
        "id": "YKxIAm1i0CQm",
        "colab": {
          "base_uri": "https://localhost:8080/"
        },
        "outputId": "9c89772d-d6f8-44c7-9f91-5af33427482d"
      },
      "execution_count": 9,
      "outputs": [
        {
          "output_type": "stream",
          "name": "stdout",
          "text": [
            "Directories in dataset: ['original', 'validation', 'train', 'rotated']\n",
            "Contents of original: ['20.jpg', '13.jpg', '06.jpg', '01.jpg', '03.jpg', '18.jpg', '04.jpg', '15.jpg', '16.jpg', '07.jpg', '11.jpg', '09.jpg', '14.jpg', '02.jpg', '19.jpg', '10.jpg', '12.jpg', '08.jpg', '05.jpg', '17.jpg']\n",
            "Contents of validation: ['original', 'rotated']\n",
            "Contents of train: ['original', 'rotated']\n",
            "Contents of rotated: ['rot_0_2290.jpeg', 'rot_0_100.jpeg', 'rot_0_2498.jpeg', 'rot_0_4857.jpeg', 'rot_0_3397.jpeg', 'rot_0_4570.jpeg', 'rot_0_2198.jpeg', 'rot_0_2929.jpeg', 'rot_0_1574.jpeg', 'rot_0_7418.jpeg', 'rot_0_7875.jpeg', 'rot_0_7912.jpeg', 'rot_0_2258.jpeg', 'rot_0_9038.jpeg', 'rot_0_1084.jpeg', 'rot_0_1167.jpeg', 'rot_0_2785.jpeg', 'rot_0_3981.jpeg', 'rot_0_9267.jpeg', 'rot_0_6281.jpeg', 'rot_0_6478.jpeg', 'rot_0_6029.jpeg', 'rot_0_7464.jpeg', 'rot_0_153.jpeg', 'rot_0_1658.jpeg', 'rot_0_65.jpeg', 'rot_0_806.jpeg', 'rot_0_8217.jpeg', 'rot_0_7093.jpeg', 'rot_0_6015.jpeg', 'rot_0_1981.jpeg', 'rot_0_9744.jpeg', 'rot_0_8700.jpeg', 'rot_0_4998.jpeg', 'rot_0_6366.jpeg', 'rot_0_2472.jpeg', 'rot_0_6262.jpeg', 'rot_0_9769.jpeg', 'rot_0_2693.jpeg', 'rot_0_7402.jpeg', 'rot_0_3689.jpeg', 'rot_0_3656.jpeg', 'rot_0_7631.jpeg', 'rot_0_1035.jpeg', 'rot_0_3833.jpeg', 'rot_0_7922.jpeg', 'rot_0_1285.jpeg', 'rot_0_5837.jpeg', 'rot_0_2861.jpeg', 'rot_0_179.jpeg', 'rot_0_1687.jpeg', 'rot_0_2762.jpeg', 'rot_0_3471.jpeg', 'rot_0_1260.jpeg', 'rot_0_3551.jpeg', 'rot_0_9655.jpeg', 'rot_0_9894.jpeg', 'rot_0_6679.jpeg', 'rot_0_4665.jpeg', 'rot_0_344.jpeg', 'rot_0_8164.jpeg', 'rot_0_4881.jpeg', 'rot_0_7703.jpeg', 'rot_0_8461.jpeg', 'rot_0_7762.jpeg', 'rot_0_5255.jpeg', 'rot_0_7339.jpeg', 'rot_0_5987.jpeg', 'rot_0_4367.jpeg', 'rot_0_857.jpeg', 'rot_0_2461.jpeg', 'rot_0_1779.jpeg', 'rot_0_337.jpeg', 'rot_0_8540.jpeg', 'rot_0_9634.jpeg', 'rot_0_783.jpeg', 'rot_0_4486.jpeg', 'rot_0_5004.jpeg', 'rot_0_4476.jpeg', 'rot_0_6866.jpeg', 'rot_0_6943.jpeg', 'rot_0_1911.jpeg', 'rot_0_1277.jpeg', 'rot_0_488.jpeg', 'rot_0_32.jpeg', 'rot_0_6729.jpeg', 'rot_0_7647.jpeg', 'rot_0_1928.jpeg', 'rot_0_6668.jpeg', 'rot_0_138.jpeg', 'rot_0_9000.jpeg', 'rot_0_3279.jpeg', 'rot_0_1607.jpeg', 'rot_0_2325.jpeg', 'rot_0_9130.jpeg', 'rot_0_3821.jpeg', 'rot_0_1845.jpeg', 'rot_0_4362.jpeg', 'rot_0_173.jpeg', 'rot_0_2507.jpeg', 'rot_0_4269.jpeg', 'rot_0_3598.jpeg', 'rot_0_790.jpeg', 'rot_0_6963.jpeg', 'rot_0_849.jpeg', 'rot_0_2604.jpeg', 'rot_0_7144.jpeg', 'rot_0_9335.jpeg', 'rot_0_4802.jpeg', 'rot_0_7738.jpeg', 'rot_0_2504.jpeg', 'rot_0_5584.jpeg', 'rot_0_1451.jpeg', 'rot_0_6381.jpeg', 'rot_0_3300.jpeg', 'rot_0_956.jpeg', 'rot_0_1303.jpeg', 'rot_0_2623.jpeg', 'rot_0_8804.jpeg', 'rot_0_8845.jpeg', 'rot_0_3327.jpeg', 'rot_0_3136.jpeg', 'rot_0_4525.jpeg', 'rot_0_4902.jpeg', 'rot_0_2155.jpeg', 'rot_0_5905.jpeg']\n"
          ]
        }
      ]
    },
    {
      "cell_type": "code",
      "source": [
        "import shutil\n",
        "import os\n",
        "\n",
        "directories_to_remove = ['original', 'rotated']\n",
        "base_dir = 'dataset'\n",
        "\n",
        "for dir_name in directories_to_remove:\n",
        "    dir_path = os.path.join(base_dir, dir_name)\n",
        "    if os.path.exists(dir_path):\n",
        "        shutil.rmtree(dir_path)\n",
        "        print(f\"Removed directory: {dir_path}\")\n",
        "    else:\n",
        "        print(f\"Directory does not exist, no need to remove: {dir_path}\")\n",
        "\n",
        "print(\"Updated contents of the dataset directory:\", os.listdir(base_dir))"
      ],
      "metadata": {
        "id": "gvsDdN1R0C4E",
        "colab": {
          "base_uri": "https://localhost:8080/"
        },
        "outputId": "acd4ce0c-6f6d-4888-b32f-64789799dc16"
      },
      "execution_count": 10,
      "outputs": [
        {
          "output_type": "stream",
          "name": "stdout",
          "text": [
            "Removed directory: dataset/original\n",
            "Removed directory: dataset/rotated\n",
            "Updated contents of the dataset directory: ['validation', 'train']\n"
          ]
        }
      ]
    },
    {
      "cell_type": "code",
      "source": [
        "!pip install tensorflow_addons\n",
        "import tensorflow_addons as tfa\n",
        "\n",
        "# Load the pre-trained VGG16 model\n",
        "base_model = VGG16(weights='imagenet', include_top=False, input_shape=(224, 224, 3))\n",
        "for layer in base_model.layers:\n",
        "    layer.trainable = False\n",
        "\n",
        "# Add custom layers\n",
        "x = Flatten()(base_model.output)\n",
        "x = Dense(256, activation='relu', kernel_regularizer=l2(0.001))(x)  # L2\n",
        "x = Dropout(0.5)(x)  # Dropout\n",
        "predictions = Dense(1, activation='sigmoid')(x)\n",
        "\n",
        "optimizer = tfa.optimizers.AdamW(learning_rate=0.0001, weight_decay=0.001)\n",
        "\n",
        "# Compile the model\n",
        "model = Model(inputs=base_model.input, outputs=predictions)\n",
        "model.compile(optimizer=optimizer, loss='binary_crossentropy', metrics=['accuracy'])\n",
        "\n",
        "# Prepare training data\n",
        "train_datagen = ImageDataGenerator(\n",
        "    preprocessing_function=preprocess_input,\n",
        "    validation_split=0.2  # Use 20% of the data as validation set\n",
        ")\n",
        "\n",
        "train_generator = train_datagen.flow_from_directory(\n",
        "    'dataset',\n",
        "    target_size=(224, 224),\n",
        "    batch_size=5,\n",
        "    class_mode='binary',\n",
        "    subset='training'\n",
        ")\n",
        "\n",
        "validation_generator = train_datagen.flow_from_directory(\n",
        "    'dataset',\n",
        "    target_size=(224, 224),\n",
        "    batch_size=5,\n",
        "    class_mode='binary',\n",
        "    subset='validation'\n",
        ")\n",
        "\n",
        "# Use early stopping to avoid overfitting\n",
        "early_stopping = EarlyStopping(monitor='val_loss', patience=10, verbose=1, mode='min', restore_best_weights=True)"
      ],
      "metadata": {
        "id": "tz1MC-2e0FPM",
        "colab": {
          "base_uri": "https://localhost:8080/"
        },
        "outputId": "2aef2814-4bf2-49ec-f0dd-e6cc20c321c8"
      },
      "execution_count": 11,
      "outputs": [
        {
          "output_type": "stream",
          "name": "stdout",
          "text": [
            "Collecting tensorflow_addons\n",
            "  Downloading tensorflow_addons-0.23.0-cp310-cp310-manylinux_2_17_x86_64.manylinux2014_x86_64.whl (611 kB)\n",
            "\u001b[2K     \u001b[90m━━━━━━━━━━━━━━━━━━━━━━━━━━━━━━━━━━━━━━━━\u001b[0m \u001b[32m611.8/611.8 kB\u001b[0m \u001b[31m4.1 MB/s\u001b[0m eta \u001b[36m0:00:00\u001b[0m\n",
            "\u001b[?25hRequirement already satisfied: packaging in /usr/local/lib/python3.10/dist-packages (from tensorflow_addons) (24.0)\n",
            "Collecting typeguard<3.0.0,>=2.7 (from tensorflow_addons)\n",
            "  Downloading typeguard-2.13.3-py3-none-any.whl (17 kB)\n",
            "Installing collected packages: typeguard, tensorflow_addons\n",
            "Successfully installed tensorflow_addons-0.23.0 typeguard-2.13.3\n"
          ]
        },
        {
          "output_type": "stream",
          "name": "stderr",
          "text": [
            "/usr/local/lib/python3.10/dist-packages/tensorflow_addons/utils/tfa_eol_msg.py:23: UserWarning: \n",
            "\n",
            "TensorFlow Addons (TFA) has ended development and introduction of new features.\n",
            "TFA has entered a minimal maintenance and release mode until a planned end of life in May 2024.\n",
            "Please modify downstream libraries to take dependencies from other repositories in our TensorFlow community (e.g. Keras, Keras-CV, and Keras-NLP). \n",
            "\n",
            "For more information see: https://github.com/tensorflow/addons/issues/2807 \n",
            "\n",
            "  warnings.warn(\n"
          ]
        },
        {
          "output_type": "stream",
          "name": "stdout",
          "text": [
            "Downloading data from https://storage.googleapis.com/tensorflow/keras-applications/vgg16/vgg16_weights_tf_dim_ordering_tf_kernels_notop.h5\n",
            "58889256/58889256 [==============================] - 0s 0us/step\n",
            "Found 117 images belonging to 2 classes.\n",
            "Found 29 images belonging to 2 classes.\n"
          ]
        }
      ]
    },
    {
      "cell_type": "code",
      "source": [
        "# Train the model\n",
        "history = model.fit(\n",
        "    train_generator,\n",
        "    steps_per_epoch=15,\n",
        "    epochs=10,\n",
        "    callbacks=[early_stopping],\n",
        "    validation_data=validation_generator,\n",
        "    validation_steps=5\n",
        ")\n",
        "\n",
        "# Evaluate the model\n",
        "results = model.evaluate(validation_generator)\n",
        "print(\"Test loss, Test accuracy:\", results)"
      ],
      "metadata": {
        "id": "MeiJseR70Mz6",
        "colab": {
          "base_uri": "https://localhost:8080/"
        },
        "outputId": "6f12615c-391b-4564-bb94-6c45374dfd7c"
      },
      "execution_count": 12,
      "outputs": [
        {
          "output_type": "stream",
          "name": "stdout",
          "text": [
            "Epoch 1/10\n",
            "15/15 [==============================] - 79s 5s/step - loss: 6.9632 - accuracy: 0.7500 - val_loss: 5.7785 - val_accuracy: 0.6400\n",
            "Epoch 2/10\n",
            "15/15 [==============================] - 67s 5s/step - loss: 4.0698 - accuracy: 0.8000 - val_loss: 7.6242 - val_accuracy: 0.6000\n",
            "Epoch 3/10\n",
            "15/15 [==============================] - 62s 4s/step - loss: 6.4777 - accuracy: 0.8333 - val_loss: 8.8830 - val_accuracy: 0.6400\n",
            "Epoch 4/10\n",
            "15/15 [==============================] - 66s 4s/step - loss: 3.9750 - accuracy: 0.8056 - val_loss: 8.9330 - val_accuracy: 0.7200\n",
            "Epoch 5/10\n",
            "15/15 [==============================] - 70s 5s/step - loss: 3.2138 - accuracy: 0.8750 - val_loss: 7.2689 - val_accuracy: 0.7200\n",
            "Epoch 6/10\n",
            "15/15 [==============================] - 65s 4s/step - loss: 1.5172 - accuracy: 0.9200 - val_loss: 8.8473 - val_accuracy: 0.6800\n",
            "Epoch 7/10\n",
            "15/15 [==============================] - 66s 4s/step - loss: 1.3746 - accuracy: 0.9306 - val_loss: 8.0360 - val_accuracy: 0.7200\n",
            "Epoch 8/10\n",
            "15/15 [==============================] - 66s 4s/step - loss: 2.9409 - accuracy: 0.8750 - val_loss: 6.5746 - val_accuracy: 0.7200\n",
            "Epoch 9/10\n",
            "15/15 [==============================] - 62s 4s/step - loss: 2.4051 - accuracy: 0.8611 - val_loss: 7.1803 - val_accuracy: 0.7200\n",
            "Epoch 10/10\n",
            "15/15 [==============================] - 67s 5s/step - loss: 1.7613 - accuracy: 0.9067 - val_loss: 7.2814 - val_accuracy: 0.6800\n",
            "6/6 [==============================] - 18s 3s/step - loss: 6.3073 - accuracy: 0.7241\n",
            "Test loss, Test accuracy: [6.307251453399658, 0.7241379022598267]\n"
          ]
        }
      ]
    }
  ]
}