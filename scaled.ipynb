{
  "nbformat": 4,
  "nbformat_minor": 0,
  "metadata": {
    "colab": {
      "provenance": []
    },
    "kernelspec": {
      "name": "python3",
      "display_name": "Python 3"
    },
    "language_info": {
      "name": "python"
    }
  },
  "cells": [
    {
      "cell_type": "code",
      "execution_count": null,
      "metadata": {
        "id": "pX197CthOPi8"
      },
      "outputs": [],
      "source": [
        "import cv2\n",
        "import os\n",
        "import shutil\n",
        "import numpy as np\n",
        "import zipfile\n",
        "import pandas as pd\n",
        "from sklearn.model_selection import train_test_split\n",
        "from keras.preprocessing.image import ImageDataGenerator, img_to_array, load_img\n",
        "from keras.applications.vgg16 import VGG16, preprocess_input\n",
        "from keras.layers import Dense, Flatten, Dropout\n",
        "from keras.models import Model\n",
        "from keras.optimizers import Adam\n",
        "from keras.callbacks import EarlyStopping\n",
        "from tqdm import tqdm\n",
        "from PIL import Image, ImageFilter, ImageEnhance\n",
        "from keras.optimizers import Adam\n",
        "from keras.regularizers import l2"
      ]
    },
    {
      "cell_type": "code",
      "source": [
        "# Unzipping the image dataset\n",
        "zip_ref = zipfile.ZipFile('original.zip', 'r')\n",
        "zip_ref.extractall('dataset')  # Extracting to the 'dataset' folder\n",
        "zip_ref.close()"
      ],
      "metadata": {
        "id": "-si68WouOTd5"
      },
      "execution_count": null,
      "outputs": []
    },
    {
      "cell_type": "code",
      "source": [
        "datagen = ImageDataGenerator(\n",
        "    rescale=1./255\n",
        ")\n",
        "\n",
        "rotated_dir = 'dataset/scaled'\n",
        "if not os.path.exists(rotated_dir):\n",
        "    os.makedirs(rotated_dir)\n",
        "\n",
        "original_dir = 'dataset/original'\n",
        "total_images = 20\n",
        "\n",
        "for i in range(1, total_images + 1):\n",
        "    img_path = f'{original_dir}/{i:02d}.jpg'\n",
        "    img = load_img(img_path)\n",
        "    x = img_to_array(img)\n",
        "    x = x.reshape((1,) + x.shape)\n",
        "\n",
        "    j = 0\n",
        "    for batch in datagen.flow(x, batch_size=1, save_to_dir=rotated_dir, save_prefix='scaled', save_format='jpeg'):\n",
        "        j += 1\n",
        "        if j >= 10:\n",
        "            break"
      ],
      "metadata": {
        "id": "rk5OoYRyS2CY"
      },
      "execution_count": null,
      "outputs": []
    },
    {
      "cell_type": "code",
      "source": [
        "# Define data paths\n",
        "original_dir = 'dataset/original'\n",
        "scaled_dir = 'dataset/scaled'\n",
        "train_dir = 'dataset/train'\n",
        "validation_dir = 'dataset/validation'\n",
        "\n",
        "# Create directories for training and validation\n",
        "for category in ['original', 'scaled']:\n",
        "    os.makedirs(os.path.join(train_dir, category), exist_ok=True)\n",
        "    os.makedirs(os.path.join(validation_dir, category), exist_ok=True)\n",
        "\n",
        "# Function to split data and move files\n",
        "def split_data(source_folder, train_folder, validation_folder, validation_split=0.2):\n",
        "    files = os.listdir(source_folder)\n",
        "    train_files, validation_files = train_test_split(files, test_size=validation_split)\n",
        "\n",
        "    # Copy files to training directory\n",
        "    for file in train_files:\n",
        "        shutil.copy(os.path.join(source_folder, file), os.path.join(train_folder, file))\n",
        "\n",
        "    # Copy files to validation directory\n",
        "    for file in validation_files:\n",
        "        shutil.copy(os.path.join(source_folder, file), os.path.join(validation_folder, file))\n",
        "\n",
        "# Apply function to original and distorted datasets\n",
        "split_data(original_dir, os.path.join(train_dir, 'original'), os.path.join(validation_dir, 'original'))\n",
        "split_data(scaled_dir, os.path.join(train_dir, 'scaled'), os.path.join(validation_dir, 'scaled'))"
      ],
      "metadata": {
        "id": "qoMnkWIORXWx"
      },
      "execution_count": null,
      "outputs": []
    },
    {
      "cell_type": "code",
      "source": [
        "train_datagen = ImageDataGenerator(preprocessing_function=preprocess_input)\n",
        "train_generator = train_datagen.flow_from_directory(\n",
        "    'dataset/train',\n",
        "    target_size=(224, 224),\n",
        "    batch_size=5,\n",
        "    class_mode='categorical'\n",
        ")\n",
        "\n",
        "validation_datagen = ImageDataGenerator(preprocessing_function=preprocess_input)\n",
        "validation_generator = validation_datagen.flow_from_directory(\n",
        "    'dataset/validation',\n",
        "    target_size=(224, 224),\n",
        "    batch_size=5,\n",
        "    class_mode='categorical'\n",
        ")"
      ],
      "metadata": {
        "colab": {
          "base_uri": "https://localhost:8080/"
        },
        "id": "Cqwb3fnfRb0C",
        "outputId": "fcb5fb8a-bf4f-4b57-ca35-86191a725605"
      },
      "execution_count": null,
      "outputs": [
        {
          "output_type": "stream",
          "name": "stdout",
          "text": [
            "Found 175 images belonging to 2 classes.\n",
            "Found 44 images belonging to 2 classes.\n"
          ]
        }
      ]
    },
    {
      "cell_type": "code",
      "source": [
        "import shutil\n",
        "\n",
        "def remove_unwanted_dirs(directory):\n",
        "    checkpoint_dir = os.path.join(directory, '.ipynb_checkpoints')\n",
        "    if os.path.exists(checkpoint_dir):\n",
        "        shutil.rmtree(checkpoint_dir)\n",
        "        print(f\"Removed {checkpoint_dir}\")\n",
        "\n",
        "remove_unwanted_dirs(train_dir)\n",
        "remove_unwanted_dirs(validation_dir)\n",
        "\n",
        "print(\"Updated training directories:\", os.listdir(train_dir))\n",
        "print(\"Updated validation directories:\", os.listdir(validation_dir))"
      ],
      "metadata": {
        "colab": {
          "base_uri": "https://localhost:8080/"
        },
        "id": "zwzsFctxRdea",
        "outputId": "db248f42-24cf-4b74-bbe0-d5f89a0f134f"
      },
      "execution_count": null,
      "outputs": [
        {
          "output_type": "stream",
          "name": "stdout",
          "text": [
            "Updated training directories: ['original', 'scaled']\n",
            "Updated validation directories: ['original', 'scaled']\n"
          ]
        }
      ]
    },
    {
      "cell_type": "code",
      "source": [
        "dataset_dir = 'dataset'\n",
        "print(\"Directories in dataset:\", os.listdir(dataset_dir))\n",
        "\n",
        "for category in os.listdir(dataset_dir):\n",
        "    category_path = os.path.join(dataset_dir, category)\n",
        "    if os.path.isdir(category_path):\n",
        "        print(f\"Contents of {category}:\", os.listdir(category_path))"
      ],
      "metadata": {
        "id": "Pl3mTOs-0BXI",
        "colab": {
          "base_uri": "https://localhost:8080/"
        },
        "outputId": "bae20e66-06e5-4d24-aa12-d9cd8f50fa61"
      },
      "execution_count": null,
      "outputs": [
        {
          "output_type": "stream",
          "name": "stdout",
          "text": [
            "Directories in dataset: ['original', 'validation', 'train', 'scaled']\n",
            "Contents of original: ['20.jpg', '13.jpg', '06.jpg', '01.jpg', '03.jpg', '18.jpg', '04.jpg', '15.jpg', '16.jpg', '07.jpg', '11.jpg', '09.jpg', '14.jpg', '02.jpg', '19.jpg', '10.jpg', '12.jpg', '08.jpg', '05.jpg', '17.jpg']\n",
            "Contents of validation: ['original', 'scaled']\n",
            "Contents of train: ['original', 'scaled']\n",
            "Contents of scaled: ['scaled_0_3751.jpeg', 'scaled_0_7650.jpeg', 'scaled_0_35.jpeg', 'scaled_0_8259.jpeg', 'scaled_0_1484.jpeg', 'scaled_0_1064.jpeg', 'scaled_0_9523.jpeg', 'scaled_0_2818.jpeg', 'scaled_0_6747.jpeg', 'scaled_0_6406.jpeg', 'scaled_0_8774.jpeg', 'scaled_0_6323.jpeg', 'scaled_0_4344.jpeg', 'scaled_0_3479.jpeg', 'scaled_0_8052.jpeg', 'scaled_0_8489.jpeg', 'scaled_0_9577.jpeg', 'scaled_0_5768.jpeg', 'scaled_0_4973.jpeg', 'scaled_0_3732.jpeg', 'scaled_0_3962.jpeg', 'scaled_0_6251.jpeg', 'scaled_0_5785.jpeg', 'scaled_0_916.jpeg', 'scaled_0_7011.jpeg', 'scaled_0_3444.jpeg', 'scaled_0_3517.jpeg', 'scaled_0_6042.jpeg', 'scaled_0_8681.jpeg', 'scaled_0_563.jpeg', 'scaled_0_4652.jpeg', 'scaled_0_567.jpeg', 'scaled_0_1073.jpeg', 'scaled_0_1232.jpeg', 'scaled_0_7290.jpeg', 'scaled_0_3072.jpeg', 'scaled_0_1812.jpeg', 'scaled_0_6963.jpeg', 'scaled_0_8971.jpeg', 'scaled_0_3733.jpeg', 'scaled_0_6078.jpeg', 'scaled_0_4263.jpeg', 'scaled_0_3236.jpeg', 'scaled_0_4198.jpeg', 'scaled_0_7938.jpeg', 'scaled_0_2552.jpeg', 'scaled_0_6310.jpeg', 'scaled_0_4166.jpeg', 'scaled_0_9630.jpeg', 'scaled_0_3578.jpeg', 'scaled_0_4574.jpeg', 'scaled_0_9840.jpeg', 'scaled_0_6765.jpeg', 'scaled_0_6484.jpeg', 'scaled_0_5346.jpeg', 'scaled_0_200.jpeg', 'scaled_0_7151.jpeg', 'scaled_0_9465.jpeg', 'scaled_0_2603.jpeg', 'scaled_0_5919.jpeg', 'scaled_0_4540.jpeg', 'scaled_0_8062.jpeg', 'scaled_0_8286.jpeg', 'scaled_0_8379.jpeg', 'scaled_0_7951.jpeg', 'scaled_0_6766.jpeg', 'scaled_0_8635.jpeg', 'scaled_0_1356.jpeg', 'scaled_0_3132.jpeg', 'scaled_0_1994.jpeg', 'scaled_0_879.jpeg', 'scaled_0_4155.jpeg', 'scaled_0_4728.jpeg', 'scaled_0_3604.jpeg', 'scaled_0_1075.jpeg', 'scaled_0_134.jpeg', 'scaled_0_7869.jpeg', 'scaled_0_3555.jpeg', 'scaled_0_577.jpeg', 'scaled_0_9742.jpeg', 'scaled_0_8899.jpeg', 'scaled_0_8840.jpeg', 'scaled_0_5442.jpeg', 'scaled_0_1620.jpeg', 'scaled_0_87.jpeg', 'scaled_0_6746.jpeg', 'scaled_0_5480.jpeg', 'scaled_0_7905.jpeg', 'scaled_0_5186.jpeg', 'scaled_0_3271.jpeg', 'scaled_0_3742.jpeg', 'scaled_0_5021.jpeg', 'scaled_0_1002.jpeg', 'scaled_0_5123.jpeg', 'scaled_0_3415.jpeg', 'scaled_0_7802.jpeg', 'scaled_0_3952.jpeg', 'scaled_0_933.jpeg', 'scaled_0_572.jpeg', 'scaled_0_337.jpeg', 'scaled_0_9129.jpeg', 'scaled_0_6194.jpeg', 'scaled_0_1723.jpeg', 'scaled_0_2486.jpeg', 'scaled_0_461.jpeg', 'scaled_0_4283.jpeg', 'scaled_0_1641.jpeg', 'scaled_0_3436.jpeg', 'scaled_0_9310.jpeg', 'scaled_0_4729.jpeg', 'scaled_0_3945.jpeg', 'scaled_0_4140.jpeg', 'scaled_0_9397.jpeg', 'scaled_0_2447.jpeg', 'scaled_0_4883.jpeg', 'scaled_0_368.jpeg', 'scaled_0_2598.jpeg', 'scaled_0_2311.jpeg', 'scaled_0_9924.jpeg', 'scaled_0_2249.jpeg', 'scaled_0_3544.jpeg', 'scaled_0_6043.jpeg', 'scaled_0_3176.jpeg', 'scaled_0_9125.jpeg', 'scaled_0_6858.jpeg', 'scaled_0_9636.jpeg', 'scaled_0_4158.jpeg', 'scaled_0_7755.jpeg', 'scaled_0_1443.jpeg', 'scaled_0_1119.jpeg', 'scaled_0_5508.jpeg', 'scaled_0_6284.jpeg', 'scaled_0_9372.jpeg', 'scaled_0_7592.jpeg', 'scaled_0_3039.jpeg', 'scaled_0_4498.jpeg', 'scaled_0_3688.jpeg', 'scaled_0_7016.jpeg', 'scaled_0_1340.jpeg', 'scaled_0_1931.jpeg', 'scaled_0_4227.jpeg', 'scaled_0_5121.jpeg', 'scaled_0_9715.jpeg', 'scaled_0_9474.jpeg', 'scaled_0_784.jpeg', 'scaled_0_5651.jpeg', 'scaled_0_3110.jpeg', 'scaled_0_8386.jpeg', 'scaled_0_5956.jpeg', 'scaled_0_6288.jpeg', 'scaled_0_6990.jpeg', 'scaled_0_3361.jpeg', 'scaled_0_8824.jpeg', 'scaled_0_2398.jpeg', 'scaled_0_8142.jpeg', 'scaled_0_2734.jpeg', 'scaled_0_8578.jpeg', 'scaled_0_3494.jpeg', 'scaled_0_6991.jpeg', 'scaled_0_8783.jpeg', 'scaled_0_8846.jpeg', 'scaled_0_323.jpeg', 'scaled_0_9898.jpeg', 'scaled_0_3423.jpeg', 'scaled_0_611.jpeg', 'scaled_0_9306.jpeg', 'scaled_0_7790.jpeg', 'scaled_0_9675.jpeg', 'scaled_0_5860.jpeg', 'scaled_0_823.jpeg', 'scaled_0_5657.jpeg', 'scaled_0_7210.jpeg', 'scaled_0_1329.jpeg', 'scaled_0_5.jpeg', 'scaled_0_6282.jpeg', 'scaled_0_6872.jpeg', 'scaled_0_2808.jpeg', 'scaled_0_898.jpeg', 'scaled_0_824.jpeg', 'scaled_0_4623.jpeg', 'scaled_0_5038.jpeg', 'scaled_0_1314.jpeg', 'scaled_0_3772.jpeg', 'scaled_0_7390.jpeg', 'scaled_0_3276.jpeg', 'scaled_0_336.jpeg', 'scaled_0_500.jpeg', 'scaled_0_2448.jpeg', 'scaled_0_2316.jpeg', 'scaled_0_3206.jpeg', 'scaled_0_2542.jpeg', 'scaled_0_6935.jpeg', 'scaled_0_7693.jpeg', 'scaled_0_7984.jpeg', 'scaled_0_4688.jpeg', 'scaled_0_338.jpeg', 'scaled_0_6212.jpeg', 'scaled_0_3680.jpeg', 'scaled_0_4316.jpeg']\n"
          ]
        }
      ]
    },
    {
      "cell_type": "code",
      "source": [
        "import shutil\n",
        "import os\n",
        "\n",
        "directories_to_remove = ['original', 'scaled']\n",
        "base_dir = 'dataset'\n",
        "\n",
        "for dir_name in directories_to_remove:\n",
        "    dir_path = os.path.join(base_dir, dir_name)\n",
        "    if os.path.exists(dir_path):\n",
        "        shutil.rmtree(dir_path)\n",
        "        print(f\"Removed directory: {dir_path}\")\n",
        "    else:\n",
        "        print(f\"Directory does not exist, no need to remove: {dir_path}\")\n",
        "\n",
        "print(\"Updated contents of the dataset directory:\", os.listdir(base_dir))"
      ],
      "metadata": {
        "id": "pp2NGntO0EsL",
        "colab": {
          "base_uri": "https://localhost:8080/"
        },
        "outputId": "93fa7894-ae52-4d89-e0e7-72862b7583cb"
      },
      "execution_count": null,
      "outputs": [
        {
          "output_type": "stream",
          "name": "stdout",
          "text": [
            "Directory does not exist, no need to remove: dataset/original\n",
            "Removed directory: dataset/scaled\n",
            "Updated contents of the dataset directory: ['validation', 'train']\n"
          ]
        }
      ]
    },
    {
      "cell_type": "code",
      "source": [
        "!pip install tensorflow_addons\n",
        "import tensorflow_addons as tfa\n",
        "\n",
        "# Load the pre-trained VGG16 model\n",
        "base_model = VGG16(weights='imagenet', include_top=False, input_shape=(224, 224, 3))\n",
        "for layer in base_model.layers:\n",
        "    layer.trainable = False\n",
        "\n",
        "# Add custom layers\n",
        "x = Flatten()(base_model.output)\n",
        "x = Dense(256, activation='relu', kernel_regularizer=l2(0.001))(x)  # L2\n",
        "x = Dropout(0.5)(x)  # Dropout\n",
        "predictions = Dense(1, activation='sigmoid')(x)\n",
        "\n",
        "optimizer = tfa.optimizers.AdamW(learning_rate=0.0001, weight_decay=0.001)\n",
        "\n",
        "# Compile the model\n",
        "model = Model(inputs=base_model.input, outputs=predictions)\n",
        "model.compile(optimizer=optimizer, loss='binary_crossentropy', metrics=['accuracy'])\n",
        "\n",
        "# Prepare training data\n",
        "train_datagen = ImageDataGenerator(\n",
        "    preprocessing_function=preprocess_input,\n",
        "    validation_split=0.2  # Use 20% of the data as validation set\n",
        ")\n",
        "\n",
        "train_generator = train_datagen.flow_from_directory(\n",
        "    'dataset',\n",
        "    target_size=(224, 224),\n",
        "    batch_size=5,\n",
        "    class_mode='binary',\n",
        "    subset='training'\n",
        ")\n",
        "\n",
        "validation_generator = train_datagen.flow_from_directory(\n",
        "    'dataset',\n",
        "    target_size=(224, 224),\n",
        "    batch_size=5,\n",
        "    class_mode='binary',\n",
        "    subset='validation'\n",
        ")\n",
        "\n",
        "# Use early stopping to avoid overfitting\n",
        "early_stopping = EarlyStopping(monitor='val_loss', patience=10, verbose=1, mode='min', restore_best_weights=True)"
      ],
      "metadata": {
        "id": "O_bcsglc0HjR",
        "colab": {
          "base_uri": "https://localhost:8080/"
        },
        "outputId": "97effa77-afd2-434b-e7e4-a0762401618e"
      },
      "execution_count": null,
      "outputs": [
        {
          "output_type": "stream",
          "name": "stdout",
          "text": [
            "Collecting tensorflow_addons\n",
            "  Downloading tensorflow_addons-0.23.0-cp310-cp310-manylinux_2_17_x86_64.manylinux2014_x86_64.whl (611 kB)\n",
            "\u001b[2K     \u001b[90m━━━━━━━━━━━━━━━━━━━━━━━━━━━━━━━━━━━━━━━━\u001b[0m \u001b[32m611.8/611.8 kB\u001b[0m \u001b[31m6.4 MB/s\u001b[0m eta \u001b[36m0:00:00\u001b[0m\n",
            "\u001b[?25hRequirement already satisfied: packaging in /usr/local/lib/python3.10/dist-packages (from tensorflow_addons) (24.0)\n",
            "Collecting typeguard<3.0.0,>=2.7 (from tensorflow_addons)\n",
            "  Downloading typeguard-2.13.3-py3-none-any.whl (17 kB)\n",
            "Installing collected packages: typeguard, tensorflow_addons\n",
            "Successfully installed tensorflow_addons-0.23.0 typeguard-2.13.3\n"
          ]
        },
        {
          "output_type": "stream",
          "name": "stderr",
          "text": [
            "/usr/local/lib/python3.10/dist-packages/tensorflow_addons/utils/tfa_eol_msg.py:23: UserWarning: \n",
            "\n",
            "TensorFlow Addons (TFA) has ended development and introduction of new features.\n",
            "TFA has entered a minimal maintenance and release mode until a planned end of life in May 2024.\n",
            "Please modify downstream libraries to take dependencies from other repositories in our TensorFlow community (e.g. Keras, Keras-CV, and Keras-NLP). \n",
            "\n",
            "For more information see: https://github.com/tensorflow/addons/issues/2807 \n",
            "\n",
            "  warnings.warn(\n"
          ]
        },
        {
          "output_type": "stream",
          "name": "stdout",
          "text": [
            "Downloading data from https://storage.googleapis.com/tensorflow/keras-applications/vgg16/vgg16_weights_tf_dim_ordering_tf_kernels_notop.h5\n",
            "58889256/58889256 [==============================] - 0s 0us/step\n",
            "Found 176 images belonging to 2 classes.\n",
            "Found 43 images belonging to 2 classes.\n"
          ]
        }
      ]
    },
    {
      "cell_type": "code",
      "source": [
        "# Train the model\n",
        "history = model.fit(\n",
        "    train_generator,\n",
        "    steps_per_epoch=15,\n",
        "    epochs=10,\n",
        "    callbacks=[early_stopping],\n",
        "    validation_data=validation_generator,\n",
        "    validation_steps=5\n",
        ")\n",
        "\n",
        "# Evaluate the model\n",
        "results = model.evaluate(validation_generator)\n",
        "print(\"Test loss, Test accuracy:\", results)"
      ],
      "metadata": {
        "id": "Jlzy7Tg70Ljl",
        "colab": {
          "base_uri": "https://localhost:8080/"
        },
        "outputId": "66c5881d-6769-45bd-99ea-ed003fe758e7"
      },
      "execution_count": null,
      "outputs": [
        {
          "output_type": "stream",
          "name": "stdout",
          "text": [
            "Epoch 1/10\n",
            "15/15 [==============================] - 77s 5s/step - loss: 5.8019 - accuracy: 0.7606 - val_loss: 9.9698 - val_accuracy: 0.6800\n",
            "Epoch 2/10\n",
            "15/15 [==============================] - 62s 4s/step - loss: 11.7996 - accuracy: 0.6533 - val_loss: 7.5555 - val_accuracy: 0.6000\n",
            "Epoch 3/10\n",
            "15/15 [==============================] - 65s 4s/step - loss: 10.5991 - accuracy: 0.6267 - val_loss: 7.1520 - val_accuracy: 0.7600\n",
            "Epoch 4/10\n",
            "15/15 [==============================] - 65s 4s/step - loss: 9.7862 - accuracy: 0.7467 - val_loss: 3.6466 - val_accuracy: 0.8000\n",
            "Epoch 5/10\n",
            "15/15 [==============================] - 57s 4s/step - loss: 8.7549 - accuracy: 0.6338 - val_loss: 4.4411 - val_accuracy: 0.7200\n",
            "Epoch 6/10\n",
            "15/15 [==============================] - 61s 4s/step - loss: 6.9955 - accuracy: 0.7200 - val_loss: 2.6625 - val_accuracy: 0.8000\n",
            "Epoch 7/10\n",
            "15/15 [==============================] - 65s 4s/step - loss: 6.9775 - accuracy: 0.7333 - val_loss: 5.2025 - val_accuracy: 0.8000\n",
            "Epoch 8/10\n",
            "15/15 [==============================] - 57s 4s/step - loss: 4.0737 - accuracy: 0.7746 - val_loss: 3.2990 - val_accuracy: 0.7600\n",
            "Epoch 9/10\n",
            "15/15 [==============================] - 63s 4s/step - loss: 5.9804 - accuracy: 0.6620 - val_loss: 5.9989 - val_accuracy: 0.6400\n",
            "Epoch 10/10\n",
            "15/15 [==============================] - 63s 4s/step - loss: 6.3425 - accuracy: 0.7465 - val_loss: 3.7558 - val_accuracy: 0.8000\n",
            "9/9 [==============================] - 30s 3s/step - loss: 3.3443 - accuracy: 0.8140\n",
            "Test loss, Test accuracy: [3.344322443008423, 0.8139534592628479]\n"
          ]
        }
      ]
    }
  ]
}